{
  "nbformat": 4,
  "nbformat_minor": 0,
  "metadata": {
    "colab": {
      "name": "gb.ipynb",
      "provenance": [],
      "collapsed_sections": [],
      "authorship_tag": "ABX9TyNSI+i8EmIDpiND3GkivZ21",
      "include_colab_link": true
    },
    "kernelspec": {
      "name": "python3",
      "display_name": "Python 3"
    },
    "accelerator": "GPU"
  },
  "cells": [
    {
      "cell_type": "markdown",
      "metadata": {
        "id": "view-in-github",
        "colab_type": "text"
      },
      "source": [
        "<a href=\"https://colab.research.google.com/github/klein-mask/signate/blob/main/competitions/no_413/gb.ipynb\" target=\"_parent\"><img src=\"https://colab.research.google.com/assets/colab-badge.svg\" alt=\"Open In Colab\"/></a>"
      ]
    },
    {
      "cell_type": "code",
      "metadata": {
        "id": "vjDLhS4hl9sa",
        "colab": {
          "base_uri": "https://localhost:8080/"
        },
        "outputId": "2b1bd967-da81-47ec-fdfb-0a65e287246d"
      },
      "source": [
        "from google.colab import drive\n",
        "drive.mount('/content/drive')"
      ],
      "execution_count": 1,
      "outputs": [
        {
          "output_type": "stream",
          "text": [
            "Mounted at /content/drive\n"
          ],
          "name": "stdout"
        }
      ]
    },
    {
      "cell_type": "code",
      "metadata": {
        "id": "vqPOruIMoCtJ"
      },
      "source": [
        "project_path = '/content/drive/MyDrive/Colab Notebooks/no_413'"
      ],
      "execution_count": 2,
      "outputs": []
    },
    {
      "cell_type": "code",
      "metadata": {
        "id": "lwNLL9HvoY95"
      },
      "source": [
        "import pandas as pd\n",
        "train = pd.read_csv(f'{project_path}/data/train.csv')\n",
        "# test  = pd.read_csv(f'{project_path}/data/test.csv')"
      ],
      "execution_count": 3,
      "outputs": []
    },
    {
      "cell_type": "code",
      "metadata": {
        "id": "0QV2HB8comTo",
        "colab": {
          "base_uri": "https://localhost:8080/",
          "height": 230
        },
        "outputId": "7ce6ce99-3ace-4608-e976-653c806aa1c1"
      },
      "source": [
        "train.head(3)"
      ],
      "execution_count": 4,
      "outputs": [
        {
          "output_type": "execute_result",
          "data": {
            "text/html": [
              "<div>\n",
              "<style scoped>\n",
              "    .dataframe tbody tr th:only-of-type {\n",
              "        vertical-align: middle;\n",
              "    }\n",
              "\n",
              "    .dataframe tbody tr th {\n",
              "        vertical-align: top;\n",
              "    }\n",
              "\n",
              "    .dataframe thead th {\n",
              "        text-align: right;\n",
              "    }\n",
              "</style>\n",
              "<table border=\"1\" class=\"dataframe\">\n",
              "  <thead>\n",
              "    <tr style=\"text-align: right;\">\n",
              "      <th></th>\n",
              "      <th>index</th>\n",
              "      <th>age</th>\n",
              "      <th>workclass</th>\n",
              "      <th>fnlwgt</th>\n",
              "      <th>education</th>\n",
              "      <th>education-num</th>\n",
              "      <th>marital-status</th>\n",
              "      <th>occupation</th>\n",
              "      <th>relationship</th>\n",
              "      <th>race</th>\n",
              "      <th>sex</th>\n",
              "      <th>native-country</th>\n",
              "      <th>Y</th>\n",
              "    </tr>\n",
              "  </thead>\n",
              "  <tbody>\n",
              "    <tr>\n",
              "      <th>0</th>\n",
              "      <td>322</td>\n",
              "      <td>21</td>\n",
              "      <td>Private</td>\n",
              "      <td>132652</td>\n",
              "      <td>Some-college</td>\n",
              "      <td>10</td>\n",
              "      <td>Divorced</td>\n",
              "      <td>Adm-clerical</td>\n",
              "      <td>Own-child</td>\n",
              "      <td>White</td>\n",
              "      <td>Female</td>\n",
              "      <td>United-States</td>\n",
              "      <td>0</td>\n",
              "    </tr>\n",
              "    <tr>\n",
              "      <th>1</th>\n",
              "      <td>11968</td>\n",
              "      <td>29</td>\n",
              "      <td>Private</td>\n",
              "      <td>132652</td>\n",
              "      <td>HS-grad</td>\n",
              "      <td>9</td>\n",
              "      <td>Divorced</td>\n",
              "      <td>Adm-clerical</td>\n",
              "      <td>Not-in-family</td>\n",
              "      <td>White</td>\n",
              "      <td>Female</td>\n",
              "      <td>United-States</td>\n",
              "      <td>0</td>\n",
              "    </tr>\n",
              "    <tr>\n",
              "      <th>2</th>\n",
              "      <td>10868</td>\n",
              "      <td>19</td>\n",
              "      <td>Private</td>\n",
              "      <td>132652</td>\n",
              "      <td>Bachelors</td>\n",
              "      <td>13</td>\n",
              "      <td>Never-married</td>\n",
              "      <td>Prof-specialty</td>\n",
              "      <td>Not-in-family</td>\n",
              "      <td>White</td>\n",
              "      <td>Female</td>\n",
              "      <td>United-States</td>\n",
              "      <td>0</td>\n",
              "    </tr>\n",
              "  </tbody>\n",
              "</table>\n",
              "</div>"
            ],
            "text/plain": [
              "   index  age workclass  fnlwgt  ...   race     sex native-country  Y\n",
              "0    322   21   Private  132652  ...  White  Female  United-States  0\n",
              "1  11968   29   Private  132652  ...  White  Female  United-States  0\n",
              "2  10868   19   Private  132652  ...  White  Female  United-States  0\n",
              "\n",
              "[3 rows x 13 columns]"
            ]
          },
          "metadata": {
            "tags": []
          },
          "execution_count": 4
        }
      ]
    },
    {
      "cell_type": "code",
      "metadata": {
        "id": "huFsJU7nor3a"
      },
      "source": [
        "x = train.drop('Y', axis=1)\n",
        "y = train['Y']"
      ],
      "execution_count": 5,
      "outputs": []
    },
    {
      "cell_type": "code",
      "metadata": {
        "id": "Erp9lNx9pMFi",
        "colab": {
          "base_uri": "https://localhost:8080/"
        },
        "outputId": "0ac085ae-3990-42cb-995a-c7dd74d2fc4b"
      },
      "source": [
        "x.info()"
      ],
      "execution_count": 6,
      "outputs": [
        {
          "output_type": "stream",
          "text": [
            "<class 'pandas.core.frame.DataFrame'>\n",
            "RangeIndex: 11900 entries, 0 to 11899\n",
            "Data columns (total 12 columns):\n",
            " #   Column          Non-Null Count  Dtype \n",
            "---  ------          --------------  ----- \n",
            " 0   index           11900 non-null  int64 \n",
            " 1   age             11900 non-null  int64 \n",
            " 2   workclass       11900 non-null  object\n",
            " 3   fnlwgt          11900 non-null  int64 \n",
            " 4   education       11900 non-null  object\n",
            " 5   education-num   11900 non-null  int64 \n",
            " 6   marital-status  11900 non-null  object\n",
            " 7   occupation      11900 non-null  object\n",
            " 8   relationship    11900 non-null  object\n",
            " 9   race            11900 non-null  object\n",
            " 10  sex             11900 non-null  object\n",
            " 11  native-country  11900 non-null  object\n",
            "dtypes: int64(4), object(8)\n",
            "memory usage: 1.1+ MB\n"
          ],
          "name": "stdout"
        }
      ]
    },
    {
      "cell_type": "code",
      "metadata": {
        "id": "Dn-2acrApTVR"
      },
      "source": [
        "x = x.drop('index', axis=1)"
      ],
      "execution_count": 7,
      "outputs": []
    },
    {
      "cell_type": "code",
      "metadata": {
        "id": "4YYrrFkfpkXT",
        "colab": {
          "base_uri": "https://localhost:8080/",
          "height": 35
        },
        "outputId": "4d85312a-aadd-44c7-b8d4-a794312ee73f"
      },
      "source": [
        "x['workclass'].value_counts(sort=True).index[0]"
      ],
      "execution_count": 8,
      "outputs": [
        {
          "output_type": "execute_result",
          "data": {
            "application/vnd.google.colaboratory.intrinsic+json": {
              "type": "string"
            },
            "text/plain": [
              "'Private'"
            ]
          },
          "metadata": {
            "tags": []
          },
          "execution_count": 8
        }
      ]
    },
    {
      "cell_type": "code",
      "metadata": {
        "id": "CAy059lrX28i",
        "colab": {
          "base_uri": "https://localhost:8080/",
          "height": 223
        },
        "outputId": "761eec3f-5685-4fb1-8c67-7dec8b5c730e"
      },
      "source": [
        "x['workclass'].value_counts().plot.bar(figsize=(15, 3), color='darkblue')"
      ],
      "execution_count": 9,
      "outputs": [
        {
          "output_type": "execute_result",
          "data": {
            "text/plain": [
              "<matplotlib.axes._subplots.AxesSubplot at 0x7f09efa1c750>"
            ]
          },
          "metadata": {
            "tags": []
          },
          "execution_count": 9
        },
        {
          "output_type": "display_data",
          "data": {
            "image/png": "[encoded data removed]",
            "text/plain": [
              "<Figure size 1080x216 with 1 Axes>"
            ]
          },
          "metadata": {
            "tags": [],
            "needs_background": "light"
          }
        }
      ]
    },
    {
      "cell_type": "code",
      "metadata": {
        "id": "4K7IVpRrYKWu"
      },
      "source": [
        "# ?はいっそ明らかに多いprivateにする\n",
        "max_workclass = x['workclass'].value_counts(sort=True).index[0]\n",
        "x['workclass'] = x['workclass'].replace('?', max_workclass)"
      ],
      "execution_count": 10,
      "outputs": []
    },
    {
      "cell_type": "code",
      "metadata": {
        "id": "aO5PoIT7ZGi_",
        "colab": {
          "base_uri": "https://localhost:8080/",
          "height": 222
        },
        "outputId": "f7757491-7254-4073-c21a-eec033905212"
      },
      "source": [
        "x['workclass'].value_counts().plot.bar(figsize=(15, 3), color='darkblue')\n"
      ],
      "execution_count": 11,
      "outputs": [
        {
          "output_type": "execute_result",
          "data": {
            "text/plain": [
              "<matplotlib.axes._subplots.AxesSubplot at 0x7f09ece26bd0>"
            ]
          },
          "metadata": {
            "tags": []
          },
          "execution_count": 11
        },
        {
          "output_type": "display_data",
          "data": {
            "image/png": "[encoded data removed]",
            "text/plain": [
              "<Figure size 1080x216 with 1 Axes>"
            ]
          },
          "metadata": {
            "tags": [],
            "needs_background": "light"
          }
        }
      ]
    },
    {
      "cell_type": "code",
      "metadata": {
        "id": "jCVl1lOpZJQS",
        "colab": {
          "base_uri": "https://localhost:8080/"
        },
        "outputId": "bb912613-45c9-4540-a3c9-69e8143d87f7"
      },
      "source": [
        "x.info()"
      ],
      "execution_count": 12,
      "outputs": [
        {
          "output_type": "stream",
          "text": [
            "<class 'pandas.core.frame.DataFrame'>\n",
            "RangeIndex: 11900 entries, 0 to 11899\n",
            "Data columns (total 11 columns):\n",
            " #   Column          Non-Null Count  Dtype \n",
            "---  ------          --------------  ----- \n",
            " 0   age             11900 non-null  int64 \n",
            " 1   workclass       11900 non-null  object\n",
            " 2   fnlwgt          11900 non-null  int64 \n",
            " 3   education       11900 non-null  object\n",
            " 4   education-num   11900 non-null  int64 \n",
            " 5   marital-status  11900 non-null  object\n",
            " 6   occupation      11900 non-null  object\n",
            " 7   relationship    11900 non-null  object\n",
            " 8   race            11900 non-null  object\n",
            " 9   sex             11900 non-null  object\n",
            " 10  native-country  11900 non-null  object\n",
            "dtypes: int64(3), object(8)\n",
            "memory usage: 1022.8+ KB\n"
          ],
          "name": "stdout"
        }
      ]
    },
    {
      "cell_type": "code",
      "metadata": {
        "id": "3s6joFvYZQIR",
        "colab": {
          "base_uri": "https://localhost:8080/",
          "height": 213
        },
        "outputId": "379e50c1-fee1-4d77-db6c-9a1dec2eb068"
      },
      "source": [
        "x['education'].value_counts().plot.bar(figsize=(15, 3), color='pink')"
      ],
      "execution_count": 13,
      "outputs": [
        {
          "output_type": "execute_result",
          "data": {
            "text/plain": [
              "<matplotlib.axes._subplots.AxesSubplot at 0x7f09ec9708d0>"
            ]
          },
          "metadata": {
            "tags": []
          },
          "execution_count": 13
        },
        {
          "output_type": "display_data",
          "data": {
            "image/png": "[encoded data removed]",
            "text/plain": [
              "<Figure size 1080x216 with 1 Axes>"
            ]
          },
          "metadata": {
            "tags": [],
            "needs_background": "light"
          }
        }
      ]
    },
    {
      "cell_type": "code",
      "metadata": {
        "id": "6x-AQVsWZTn3",
        "colab": {
          "base_uri": "https://localhost:8080/"
        },
        "outputId": "a2301f34-4cf5-4839-aa02-bf200c02b36b"
      },
      "source": [
        "x['education'].value_counts()"
      ],
      "execution_count": 14,
      "outputs": [
        {
          "output_type": "execute_result",
          "data": {
            "text/plain": [
              "HS-grad         4034\n",
              "Some-college    2813\n",
              "Bachelors       2235\n",
              "Masters          805\n",
              "Assoc-voc        641\n",
              "Assoc-acdm       305\n",
              "11th             302\n",
              "Prof-school      234\n",
              "10th             173\n",
              "7th-8th          128\n",
              "9th              107\n",
              "12th              71\n",
              "5th-6th           51\n",
              "1st-4th            1\n",
              "Name: education, dtype: int64"
            ]
          },
          "metadata": {
            "tags": []
          },
          "execution_count": 14
        }
      ]
    },
    {
      "cell_type": "markdown",
      "metadata": {
        "id": "gMysD7vIZ3rv"
      },
      "source": [
        "- HS-grad: 高校卒業\n",
        "- Some-college: 大学中退\n",
        "- Bachelors: 学士号\n",
        "- Masters：修士号\n",
        "- "
      ]
    },
    {
      "cell_type": "code",
      "metadata": {
        "id": "Hrcp5XRdZrRc",
        "colab": {
          "base_uri": "https://localhost:8080/"
        },
        "outputId": "f5b09c68-819d-4835-dcc8-c8b23739868c"
      },
      "source": [
        "x['marital-status'].value_counts()"
      ],
      "execution_count": 15,
      "outputs": [
        {
          "output_type": "execute_result",
          "data": {
            "text/plain": [
              "Married-civ-spouse    6004\n",
              "Never-married         3392\n",
              "Divorced              1911\n",
              "Separated              312\n",
              "Widowed                281\n",
              "Name: marital-status, dtype: int64"
            ]
          },
          "metadata": {
            "tags": []
          },
          "execution_count": 15
        }
      ]
    },
    {
      "cell_type": "code",
      "metadata": {
        "id": "5dmmRxpCapID",
        "colab": {
          "base_uri": "https://localhost:8080/"
        },
        "outputId": "75eb99c4-7b82-45a8-9fcf-cc1a54c31a62"
      },
      "source": [
        "x['relationship'].value_counts()"
      ],
      "execution_count": 16,
      "outputs": [
        {
          "output_type": "execute_result",
          "data": {
            "text/plain": [
              "Husband           5400\n",
              "Not-in-family     2502\n",
              "Own-child         2017\n",
              "Unmarried         1249\n",
              "Wife               529\n",
              "Other-relative     203\n",
              "Name: relationship, dtype: int64"
            ]
          },
          "metadata": {
            "tags": []
          },
          "execution_count": 16
        }
      ]
    },
    {
      "cell_type": "code",
      "metadata": {
        "id": "IZM3E-eKcIgF",
        "colab": {
          "base_uri": "https://localhost:8080/"
        },
        "outputId": "1dad168e-6d1c-4bcf-ad2e-1b40725ed877"
      },
      "source": [
        "x['sex'].value_counts()"
      ],
      "execution_count": 17,
      "outputs": [
        {
          "output_type": "execute_result",
          "data": {
            "text/plain": [
              "Male      7949\n",
              "Female    3951\n",
              "Name: sex, dtype: int64"
            ]
          },
          "metadata": {
            "tags": []
          },
          "execution_count": 17
        }
      ]
    },
    {
      "cell_type": "code",
      "metadata": {
        "id": "Mw4KwDyga50T"
      },
      "source": [
        "sex_mapping = {\n",
        "    'Male': 0,\n",
        "    'Female': 1\n",
        "}\n",
        "x['sex'] = x['sex'].map(sex_mapping)"
      ],
      "execution_count": 18,
      "outputs": []
    },
    {
      "cell_type": "code",
      "metadata": {
        "id": "6yNrgYaObdQK",
        "colab": {
          "base_uri": "https://localhost:8080/"
        },
        "outputId": "5e1e9325-80bc-42d3-e980-8c2fcfbeea4e"
      },
      "source": [
        "x['sex'].value_counts()"
      ],
      "execution_count": 19,
      "outputs": [
        {
          "output_type": "execute_result",
          "data": {
            "text/plain": [
              "0    7949\n",
              "1    3951\n",
              "Name: sex, dtype: int64"
            ]
          },
          "metadata": {
            "tags": []
          },
          "execution_count": 19
        }
      ]
    },
    {
      "cell_type": "code",
      "metadata": {
        "id": "RKkX6iHDcSab",
        "colab": {
          "base_uri": "https://localhost:8080/"
        },
        "outputId": "4fdd5ac9-a92f-497b-ea26-bfbbb6020ddd"
      },
      "source": [
        "x.info()"
      ],
      "execution_count": 20,
      "outputs": [
        {
          "output_type": "stream",
          "text": [
            "<class 'pandas.core.frame.DataFrame'>\n",
            "RangeIndex: 11900 entries, 0 to 11899\n",
            "Data columns (total 11 columns):\n",
            " #   Column          Non-Null Count  Dtype \n",
            "---  ------          --------------  ----- \n",
            " 0   age             11900 non-null  int64 \n",
            " 1   workclass       11900 non-null  object\n",
            " 2   fnlwgt          11900 non-null  int64 \n",
            " 3   education       11900 non-null  object\n",
            " 4   education-num   11900 non-null  int64 \n",
            " 5   marital-status  11900 non-null  object\n",
            " 6   occupation      11900 non-null  object\n",
            " 7   relationship    11900 non-null  object\n",
            " 8   race            11900 non-null  object\n",
            " 9   sex             11900 non-null  int64 \n",
            " 10  native-country  11900 non-null  object\n",
            "dtypes: int64(4), object(7)\n",
            "memory usage: 1022.8+ KB\n"
          ],
          "name": "stdout"
        }
      ]
    },
    {
      "cell_type": "code",
      "metadata": {
        "id": "rA_etBHFcqXH",
        "colab": {
          "base_uri": "https://localhost:8080/",
          "height": 213
        },
        "outputId": "83f2bf46-24b3-4ad7-b507-49927cc0313a"
      },
      "source": [
        "x['education'].value_counts().plot.bar(figsize=(15, 3))"
      ],
      "execution_count": 21,
      "outputs": [
        {
          "output_type": "execute_result",
          "data": {
            "text/plain": [
              "<matplotlib.axes._subplots.AxesSubplot at 0x7f09ec88c590>"
            ]
          },
          "metadata": {
            "tags": []
          },
          "execution_count": 21
        },
        {
          "output_type": "display_data",
          "data": {
            "image/png": "[encoded data removed]",
            "text/plain": [
              "<Figure size 1080x216 with 1 Axes>"
            ]
          },
          "metadata": {
            "tags": [],
            "needs_background": "light"
          }
        }
      ]
    },
    {
      "cell_type": "code",
      "metadata": {
        "id": "QPIIle8kcVvX"
      },
      "source": [
        "from sklearn.preprocessing import LabelEncoder\n",
        "le = LabelEncoder()\n",
        "le = le.fit(x['education'])\n",
        "x['education'] = le.transform(x['education'])"
      ],
      "execution_count": 22,
      "outputs": []
    },
    {
      "cell_type": "code",
      "metadata": {
        "id": "tzt8W0JTd7xH",
        "colab": {
          "base_uri": "https://localhost:8080/"
        },
        "outputId": "8b5e42af-7139-4c1c-9751-ce38dce28db5"
      },
      "source": [
        "x['education'].value_counts()"
      ],
      "execution_count": 23,
      "outputs": [
        {
          "output_type": "execute_result",
          "data": {
            "text/plain": [
              "10    4034\n",
              "13    2813\n",
              "9     2235\n",
              "11     805\n",
              "8      641\n",
              "7      305\n",
              "1      302\n",
              "12     234\n",
              "0      173\n",
              "5      128\n",
              "6      107\n",
              "2       71\n",
              "4       51\n",
              "3        1\n",
              "Name: education, dtype: int64"
            ]
          },
          "metadata": {
            "tags": []
          },
          "execution_count": 23
        }
      ]
    },
    {
      "cell_type": "code",
      "metadata": {
        "id": "t_dcXdQ3d_ge",
        "colab": {
          "base_uri": "https://localhost:8080/"
        },
        "outputId": "a499e329-ab3d-484f-db32-9fcfcbf93a54"
      },
      "source": [
        "x.info()"
      ],
      "execution_count": 24,
      "outputs": [
        {
          "output_type": "stream",
          "text": [
            "<class 'pandas.core.frame.DataFrame'>\n",
            "RangeIndex: 11900 entries, 0 to 11899\n",
            "Data columns (total 11 columns):\n",
            " #   Column          Non-Null Count  Dtype \n",
            "---  ------          --------------  ----- \n",
            " 0   age             11900 non-null  int64 \n",
            " 1   workclass       11900 non-null  object\n",
            " 2   fnlwgt          11900 non-null  int64 \n",
            " 3   education       11900 non-null  int64 \n",
            " 4   education-num   11900 non-null  int64 \n",
            " 5   marital-status  11900 non-null  object\n",
            " 6   occupation      11900 non-null  object\n",
            " 7   relationship    11900 non-null  object\n",
            " 8   race            11900 non-null  object\n",
            " 9   sex             11900 non-null  int64 \n",
            " 10  native-country  11900 non-null  object\n",
            "dtypes: int64(5), object(6)\n",
            "memory usage: 1022.8+ KB\n"
          ],
          "name": "stdout"
        }
      ]
    },
    {
      "cell_type": "code",
      "metadata": {
        "id": "JI3OHqjLeuIJ",
        "colab": {
          "base_uri": "https://localhost:8080/"
        },
        "outputId": "c091b97c-c8e0-4fe7-e8fb-8272f219c442"
      },
      "source": [
        "x['marital-status'].value_counts()"
      ],
      "execution_count": 25,
      "outputs": [
        {
          "output_type": "execute_result",
          "data": {
            "text/plain": [
              "Married-civ-spouse    6004\n",
              "Never-married         3392\n",
              "Divorced              1911\n",
              "Separated              312\n",
              "Widowed                281\n",
              "Name: marital-status, dtype: int64"
            ]
          },
          "metadata": {
            "tags": []
          },
          "execution_count": 25
        }
      ]
    },
    {
      "cell_type": "code",
      "metadata": {
        "id": "U62HTCOGfQ8j",
        "colab": {
          "base_uri": "https://localhost:8080/"
        },
        "outputId": "3698f3c2-8dd9-4f71-9169-dd32a371a3b5"
      },
      "source": [
        "x['relationship'].value_counts()"
      ],
      "execution_count": 26,
      "outputs": [
        {
          "output_type": "execute_result",
          "data": {
            "text/plain": [
              "Husband           5400\n",
              "Not-in-family     2502\n",
              "Own-child         2017\n",
              "Unmarried         1249\n",
              "Wife               529\n",
              "Other-relative     203\n",
              "Name: relationship, dtype: int64"
            ]
          },
          "metadata": {
            "tags": []
          },
          "execution_count": 26
        }
      ]
    },
    {
      "cell_type": "code",
      "metadata": {
        "id": "TrnKOjftfoxF",
        "colab": {
          "base_uri": "https://localhost:8080/"
        },
        "outputId": "8ee5554f-5a14-4066-d85e-0992d824745a"
      },
      "source": [
        "x['native-country'].value_counts()"
      ],
      "execution_count": 27,
      "outputs": [
        {
          "output_type": "execute_result",
          "data": {
            "text/plain": [
              "United-States    11869\n",
              "Mexico              25\n",
              "Philippines          6\n",
              "Name: native-country, dtype: int64"
            ]
          },
          "metadata": {
            "tags": []
          },
          "execution_count": 27
        }
      ]
    },
    {
      "cell_type": "code",
      "metadata": {
        "id": "COVN00mwfvgt"
      },
      "source": [
        "x = x.drop('native-country', axis=1)"
      ],
      "execution_count": 28,
      "outputs": []
    },
    {
      "cell_type": "code",
      "metadata": {
        "id": "D_PUiaIHgI09"
      },
      "source": [
        "x['occupation'].value_counts()\n",
        "x['occupation'] = x['occupation'].replace('?', 'None')"
      ],
      "execution_count": 29,
      "outputs": []
    },
    {
      "cell_type": "code",
      "metadata": {
        "id": "xVMmWep-f1aa",
        "colab": {
          "base_uri": "https://localhost:8080/"
        },
        "outputId": "8548a86c-1b15-4810-ad1a-b90ef90ac2f0"
      },
      "source": [
        "x['race'].value_counts()"
      ],
      "execution_count": 30,
      "outputs": [
        {
          "output_type": "execute_result",
          "data": {
            "text/plain": [
              "White                 10978\n",
              "Black                   677\n",
              "Asian-Pac-Islander      245\n",
              "Name: race, dtype: int64"
            ]
          },
          "metadata": {
            "tags": []
          },
          "execution_count": 30
        }
      ]
    },
    {
      "cell_type": "code",
      "metadata": {
        "id": "01G8D8fRgXw5",
        "colab": {
          "base_uri": "https://localhost:8080/"
        },
        "outputId": "38959ab1-363f-437d-b8c7-fe8d260a9ea7"
      },
      "source": [
        "x.info()"
      ],
      "execution_count": 31,
      "outputs": [
        {
          "output_type": "stream",
          "text": [
            "<class 'pandas.core.frame.DataFrame'>\n",
            "RangeIndex: 11900 entries, 0 to 11899\n",
            "Data columns (total 10 columns):\n",
            " #   Column          Non-Null Count  Dtype \n",
            "---  ------          --------------  ----- \n",
            " 0   age             11900 non-null  int64 \n",
            " 1   workclass       11900 non-null  object\n",
            " 2   fnlwgt          11900 non-null  int64 \n",
            " 3   education       11900 non-null  int64 \n",
            " 4   education-num   11900 non-null  int64 \n",
            " 5   marital-status  11900 non-null  object\n",
            " 6   occupation      11900 non-null  object\n",
            " 7   relationship    11900 non-null  object\n",
            " 8   race            11900 non-null  object\n",
            " 9   sex             11900 non-null  int64 \n",
            "dtypes: int64(5), object(5)\n",
            "memory usage: 929.8+ KB\n"
          ],
          "name": "stdout"
        }
      ]
    },
    {
      "cell_type": "code",
      "metadata": {
        "id": "l3McOHhJe7nd"
      },
      "source": [
        "ohe_columns = ['workclass', 'marital-status', 'occupation', 'relationship', 'race']\n",
        "x_ohe = pd.get_dummies(x, columns=ohe_columns)"
      ],
      "execution_count": 32,
      "outputs": []
    },
    {
      "cell_type": "code",
      "metadata": {
        "id": "0gUxSspfgwpj",
        "colab": {
          "base_uri": "https://localhost:8080/"
        },
        "outputId": "4c0cd73b-ed1c-4eca-84f8-a01714ea0347"
      },
      "source": [
        "x_ohe.info()"
      ],
      "execution_count": 33,
      "outputs": [
        {
          "output_type": "stream",
          "text": [
            "<class 'pandas.core.frame.DataFrame'>\n",
            "RangeIndex: 11900 entries, 0 to 11899\n",
            "Data columns (total 38 columns):\n",
            " #   Column                             Non-Null Count  Dtype\n",
            "---  ------                             --------------  -----\n",
            " 0   age                                11900 non-null  int64\n",
            " 1   fnlwgt                             11900 non-null  int64\n",
            " 2   education                          11900 non-null  int64\n",
            " 3   education-num                      11900 non-null  int64\n",
            " 4   sex                                11900 non-null  int64\n",
            " 5   workclass_Federal-gov              11900 non-null  uint8\n",
            " 6   workclass_Local-gov                11900 non-null  uint8\n",
            " 7   workclass_Private                  11900 non-null  uint8\n",
            " 8   workclass_Self-emp-inc             11900 non-null  uint8\n",
            " 9   workclass_Self-emp-not-inc         11900 non-null  uint8\n",
            " 10  workclass_State-gov                11900 non-null  uint8\n",
            " 11  marital-status_Divorced            11900 non-null  uint8\n",
            " 12  marital-status_Married-civ-spouse  11900 non-null  uint8\n",
            " 13  marital-status_Never-married       11900 non-null  uint8\n",
            " 14  marital-status_Separated           11900 non-null  uint8\n",
            " 15  marital-status_Widowed             11900 non-null  uint8\n",
            " 16  occupation_Adm-clerical            11900 non-null  uint8\n",
            " 17  occupation_Craft-repair            11900 non-null  uint8\n",
            " 18  occupation_Exec-managerial         11900 non-null  uint8\n",
            " 19  occupation_Farming-fishing         11900 non-null  uint8\n",
            " 20  occupation_Handlers-cleaners       11900 non-null  uint8\n",
            " 21  occupation_Machine-op-inspct       11900 non-null  uint8\n",
            " 22  occupation_None                    11900 non-null  uint8\n",
            " 23  occupation_Other-service           11900 non-null  uint8\n",
            " 24  occupation_Prof-specialty          11900 non-null  uint8\n",
            " 25  occupation_Protective-serv         11900 non-null  uint8\n",
            " 26  occupation_Sales                   11900 non-null  uint8\n",
            " 27  occupation_Tech-support            11900 non-null  uint8\n",
            " 28  occupation_Transport-moving        11900 non-null  uint8\n",
            " 29  relationship_Husband               11900 non-null  uint8\n",
            " 30  relationship_Not-in-family         11900 non-null  uint8\n",
            " 31  relationship_Other-relative        11900 non-null  uint8\n",
            " 32  relationship_Own-child             11900 non-null  uint8\n",
            " 33  relationship_Unmarried             11900 non-null  uint8\n",
            " 34  relationship_Wife                  11900 non-null  uint8\n",
            " 35  race_Asian-Pac-Islander            11900 non-null  uint8\n",
            " 36  race_Black                         11900 non-null  uint8\n",
            " 37  race_White                         11900 non-null  uint8\n",
            "dtypes: int64(5), uint8(33)\n",
            "memory usage: 848.5 KB\n"
          ],
          "name": "stdout"
        }
      ]
    },
    {
      "cell_type": "code",
      "metadata": {
        "id": "aKC7RQ2-g0ee"
      },
      "source": [
        "from sklearn.preprocessing import StandardScaler\n",
        "from sklearn.pipeline import Pipeline\n",
        "from sklearn.decomposition import PCA\n",
        "x_scaled = StandardScaler().fit_transform(x_ohe)"
      ],
      "execution_count": 34,
      "outputs": []
    },
    {
      "cell_type": "code",
      "metadata": {
        "id": "CovFypIhzwpm"
      },
      "source": [
        "from sklearn.model_selection import train_test_split\n",
        "\n",
        "x_train, x_test, y_train, y_test = train_test_split(x_scaled, y, test_size=0.2, random_state=0)"
      ],
      "execution_count": 35,
      "outputs": []
    },
    {
      "cell_type": "code",
      "metadata": {
        "id": "GWyE8E3xh8Rb",
        "colab": {
          "base_uri": "https://localhost:8080/"
        },
        "outputId": "fcaa8d74-d1c3-44c3-df9b-287af5c2355f"
      },
      "source": [
        "import lightgbm as lgb\n",
        "\n",
        "lgb_train = lgb.Dataset(x_train, y_train)\n",
        "lgb_test = lgb.Dataset(x_test, y_test)\n",
        "\n",
        "lgb_params = {\n",
        "    'task': 'train',\n",
        "    'boosting_type': 'gbdt',\n",
        "    'objective': 'binary'\n",
        "}\n",
        "\n",
        "\n",
        "lgb_results = {}\n",
        "\n",
        "model = lgb.train(\n",
        "    params=lgb_params,\n",
        "    train_set=lgb_train,\n",
        "    valid_sets=[lgb_train, lgb_test],\n",
        "    valid_names=['Train', 'Test'],\n",
        "    num_boost_round=100,\n",
        "    early_stopping_rounds=10,\n",
        "    evals_result=lgb_results\n",
        ")"
      ],
      "execution_count": 37,
      "outputs": [
        {
          "output_type": "stream",
          "text": [
            "[1]\tTrain's binary_logloss: 0.529232\tTest's binary_logloss: 0.528213\n",
            "Training until validation scores don't improve for 10 rounds.\n",
            "[2]\tTrain's binary_logloss: 0.498134\tTest's binary_logloss: 0.498509\n",
            "[3]\tTrain's binary_logloss: 0.47352\tTest's binary_logloss: 0.47493\n",
            "[4]\tTrain's binary_logloss: 0.453022\tTest's binary_logloss: 0.455226\n",
            "[5]\tTrain's binary_logloss: 0.435839\tTest's binary_logloss: 0.43892\n",
            "[6]\tTrain's binary_logloss: 0.421311\tTest's binary_logloss: 0.424948\n",
            "[7]\tTrain's binary_logloss: 0.408981\tTest's binary_logloss: 0.413278\n",
            "[8]\tTrain's binary_logloss: 0.3984\tTest's binary_logloss: 0.403539\n",
            "[9]\tTrain's binary_logloss: 0.389123\tTest's binary_logloss: 0.395324\n",
            "[10]\tTrain's binary_logloss: 0.381343\tTest's binary_logloss: 0.388059\n",
            "[11]\tTrain's binary_logloss: 0.374376\tTest's binary_logloss: 0.381936\n",
            "[12]\tTrain's binary_logloss: 0.368353\tTest's binary_logloss: 0.376748\n",
            "[13]\tTrain's binary_logloss: 0.363088\tTest's binary_logloss: 0.3722\n",
            "[14]\tTrain's binary_logloss: 0.358382\tTest's binary_logloss: 0.36821\n",
            "[15]\tTrain's binary_logloss: 0.354341\tTest's binary_logloss: 0.364809\n",
            "[16]\tTrain's binary_logloss: 0.350533\tTest's binary_logloss: 0.361451\n",
            "[17]\tTrain's binary_logloss: 0.347254\tTest's binary_logloss: 0.358696\n",
            "[18]\tTrain's binary_logloss: 0.344241\tTest's binary_logloss: 0.356547\n",
            "[19]\tTrain's binary_logloss: 0.341473\tTest's binary_logloss: 0.35481\n",
            "[20]\tTrain's binary_logloss: 0.338969\tTest's binary_logloss: 0.352942\n",
            "[21]\tTrain's binary_logloss: 0.336696\tTest's binary_logloss: 0.351283\n",
            "[22]\tTrain's binary_logloss: 0.334557\tTest's binary_logloss: 0.349969\n",
            "[23]\tTrain's binary_logloss: 0.33264\tTest's binary_logloss: 0.348878\n",
            "[24]\tTrain's binary_logloss: 0.331022\tTest's binary_logloss: 0.347771\n",
            "[25]\tTrain's binary_logloss: 0.329223\tTest's binary_logloss: 0.346888\n",
            "[26]\tTrain's binary_logloss: 0.327673\tTest's binary_logloss: 0.346138\n",
            "[27]\tTrain's binary_logloss: 0.326292\tTest's binary_logloss: 0.345345\n",
            "[28]\tTrain's binary_logloss: 0.324963\tTest's binary_logloss: 0.344805\n",
            "[29]\tTrain's binary_logloss: 0.323761\tTest's binary_logloss: 0.344209\n",
            "[30]\tTrain's binary_logloss: 0.32267\tTest's binary_logloss: 0.343823\n",
            "[31]\tTrain's binary_logloss: 0.321553\tTest's binary_logloss: 0.343237\n",
            "[32]\tTrain's binary_logloss: 0.320404\tTest's binary_logloss: 0.342851\n",
            "[33]\tTrain's binary_logloss: 0.319194\tTest's binary_logloss: 0.342515\n",
            "[34]\tTrain's binary_logloss: 0.318313\tTest's binary_logloss: 0.342079\n",
            "[35]\tTrain's binary_logloss: 0.317441\tTest's binary_logloss: 0.341788\n",
            "[36]\tTrain's binary_logloss: 0.316636\tTest's binary_logloss: 0.341512\n",
            "[37]\tTrain's binary_logloss: 0.315885\tTest's binary_logloss: 0.341294\n",
            "[38]\tTrain's binary_logloss: 0.315057\tTest's binary_logloss: 0.341313\n",
            "[39]\tTrain's binary_logloss: 0.31434\tTest's binary_logloss: 0.340847\n",
            "[40]\tTrain's binary_logloss: 0.313721\tTest's binary_logloss: 0.340647\n",
            "[41]\tTrain's binary_logloss: 0.313086\tTest's binary_logloss: 0.34067\n",
            "[42]\tTrain's binary_logloss: 0.312429\tTest's binary_logloss: 0.340746\n",
            "[43]\tTrain's binary_logloss: 0.311751\tTest's binary_logloss: 0.340926\n",
            "[44]\tTrain's binary_logloss: 0.311109\tTest's binary_logloss: 0.341016\n",
            "[45]\tTrain's binary_logloss: 0.310567\tTest's binary_logloss: 0.340935\n",
            "[46]\tTrain's binary_logloss: 0.309882\tTest's binary_logloss: 0.341265\n",
            "[47]\tTrain's binary_logloss: 0.309349\tTest's binary_logloss: 0.341306\n",
            "[48]\tTrain's binary_logloss: 0.308698\tTest's binary_logloss: 0.341408\n",
            "[49]\tTrain's binary_logloss: 0.308064\tTest's binary_logloss: 0.34156\n",
            "[50]\tTrain's binary_logloss: 0.307441\tTest's binary_logloss: 0.341732\n",
            "Early stopping, best iteration is:\n",
            "[40]\tTrain's binary_logloss: 0.313721\tTest's binary_logloss: 0.340647\n"
          ],
          "name": "stdout"
        }
      ]
    },
    {
      "cell_type": "code",
      "metadata": {
        "id": "BZJzq6iT2mwv",
        "colab": {
          "base_uri": "https://localhost:8080/"
        },
        "outputId": "490029f1-1a27-4f80-d3c4-dd5c257eafa8"
      },
      "source": [
        "import numpy as np\n",
        "print(np.min(lgb_results['Train']['binary_logloss']))\n",
        "print(np.min(lgb_results['Test']['binary_logloss']))\n",
        "best_iteration = model.best_iteration\n",
        "print(best_iteration)"
      ],
      "execution_count": 43,
      "outputs": [
        {
          "output_type": "stream",
          "text": [
            "0.3074408505477516\n",
            "0.34064725310784655\n",
            "40\n"
          ],
          "name": "stdout"
        }
      ]
    },
    {
      "cell_type": "code",
      "metadata": {
        "id": "4iIjRCv2iRzT"
      },
      "source": [
        "y_pred = model.predict(x_test, num_iteration=model.best_iteration)"
      ],
      "execution_count": 44,
      "outputs": []
    },
    {
      "cell_type": "code",
      "metadata": {
        "colab": {
          "base_uri": "https://localhost:8080/"
        },
        "id": "5aoTnb6e5OfA",
        "outputId": "cd79412b-4d77-439a-e3cb-7358a0c4ca45"
      },
      "source": [
        "y_pred"
      ],
      "execution_count": 45,
      "outputs": [
        {
          "output_type": "execute_result",
          "data": {
            "text/plain": [
              "array([0.05807381, 0.46130942, 0.01579358, ..., 0.12843733, 0.03029955,\n",
              "       0.02972164])"
            ]
          },
          "metadata": {
            "tags": []
          },
          "execution_count": 45
        }
      ]
    },
    {
      "cell_type": "code",
      "metadata": {
        "id": "opaMvpP05WYp"
      },
      "source": [
        "y_pred = [0 if i < 0.5 else 1 for i in y_pred]"
      ],
      "execution_count": 47,
      "outputs": []
    },
    {
      "cell_type": "code",
      "metadata": {
        "id": "EAKD-uaA5hpm"
      },
      "source": [
        ""
      ],
      "execution_count": null,
      "outputs": []
    }
  ]
}