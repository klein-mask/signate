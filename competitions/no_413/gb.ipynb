{
  "nbformat": 4,
  "nbformat_minor": 0,
  "metadata": {
    "colab": {
      "name": "gb.ipynb",
      "provenance": [],
      "collapsed_sections": [],
      "include_colab_link": true
    },
    "kernelspec": {
      "name": "python3",
      "display_name": "Python 3"
    },
    "accelerator": "GPU"
  },
  "cells": [
    {
      "cell_type": "markdown",
      "metadata": {
        "id": "view-in-github",
        "colab_type": "text"
      },
      "source": [
        "<a href=\"https://colab.research.google.com/github/klein-mask/signate/blob/main/competitions/no_413/gb.ipynb\" target=\"_parent\"><img src=\"https://colab.research.google.com/assets/colab-badge.svg\" alt=\"Open In Colab\"/></a>"
      ]
    },
    {
      "cell_type": "markdown",
      "metadata": {
        "id": "ibfeK6Fq-jT6"
      },
      "source": [
        "## 1. Mounted google drive and set project path"
      ]
    },
    {
      "cell_type": "code",
      "metadata": {
        "id": "vjDLhS4hl9sa",
        "colab": {
          "base_uri": "https://localhost:8080/"
        },
        "outputId": "29168744-ea96-4954-f8a5-f423a2223823"
      },
      "source": [
        "from google.colab import drive\n",
        "drive.mount('/content/drive')"
      ],
      "execution_count": 1,
      "outputs": [
        {
          "output_type": "stream",
          "text": [
            "Drive already mounted at /content/drive; to attempt to forcibly remount, call drive.mount(\"/content/drive\", force_remount=True).\n"
          ],
          "name": "stdout"
        }
      ]
    },
    {
      "cell_type": "code",
      "metadata": {
        "id": "vqPOruIMoCtJ"
      },
      "source": [
        "project_path = '/content/drive/MyDrive/ml/signate/no_413'"
      ],
      "execution_count": 2,
      "outputs": []
    },
    {
      "cell_type": "markdown",
      "metadata": {
        "id": "VlB9M2Ws-0CB"
      },
      "source": [
        "## 2. Load train data by pandas DataFrame"
      ]
    },
    {
      "cell_type": "code",
      "metadata": {
        "id": "lwNLL9HvoY95"
      },
      "source": [
        "import pandas as pd\n",
        "train = pd.read_csv(f'{project_path}/data/train.csv')"
      ],
      "execution_count": 3,
      "outputs": []
    },
    {
      "cell_type": "code",
      "metadata": {
        "id": "0QV2HB8comTo",
        "colab": {
          "base_uri": "https://localhost:8080/",
          "height": 210
        },
        "outputId": "7a60d51d-2153-49ae-d242-6e35f6ebc0a6"
      },
      "source": [
        "train.head(3)"
      ],
      "execution_count": 4,
      "outputs": [
        {
          "output_type": "execute_result",
          "data": {
            "text/html": [
              "<div>\n",
              "<style scoped>\n",
              "    .dataframe tbody tr th:only-of-type {\n",
              "        vertical-align: middle;\n",
              "    }\n",
              "\n",
              "    .dataframe tbody tr th {\n",
              "        vertical-align: top;\n",
              "    }\n",
              "\n",
              "    .dataframe thead th {\n",
              "        text-align: right;\n",
              "    }\n",
              "</style>\n",
              "<table border=\"1\" class=\"dataframe\">\n",
              "  <thead>\n",
              "    <tr style=\"text-align: right;\">\n",
              "      <th></th>\n",
              "      <th>index</th>\n",
              "      <th>age</th>\n",
              "      <th>workclass</th>\n",
              "      <th>fnlwgt</th>\n",
              "      <th>education</th>\n",
              "      <th>education-num</th>\n",
              "      <th>marital-status</th>\n",
              "      <th>occupation</th>\n",
              "      <th>relationship</th>\n",
              "      <th>race</th>\n",
              "      <th>sex</th>\n",
              "      <th>native-country</th>\n",
              "      <th>Y</th>\n",
              "    </tr>\n",
              "  </thead>\n",
              "  <tbody>\n",
              "    <tr>\n",
              "      <th>0</th>\n",
              "      <td>322</td>\n",
              "      <td>21</td>\n",
              "      <td>Private</td>\n",
              "      <td>132652</td>\n",
              "      <td>Some-college</td>\n",
              "      <td>10</td>\n",
              "      <td>Divorced</td>\n",
              "      <td>Adm-clerical</td>\n",
              "      <td>Own-child</td>\n",
              "      <td>White</td>\n",
              "      <td>Female</td>\n",
              "      <td>United-States</td>\n",
              "      <td>0</td>\n",
              "    </tr>\n",
              "    <tr>\n",
              "      <th>1</th>\n",
              "      <td>11968</td>\n",
              "      <td>29</td>\n",
              "      <td>Private</td>\n",
              "      <td>132652</td>\n",
              "      <td>HS-grad</td>\n",
              "      <td>9</td>\n",
              "      <td>Divorced</td>\n",
              "      <td>Adm-clerical</td>\n",
              "      <td>Not-in-family</td>\n",
              "      <td>White</td>\n",
              "      <td>Female</td>\n",
              "      <td>United-States</td>\n",
              "      <td>0</td>\n",
              "    </tr>\n",
              "    <tr>\n",
              "      <th>2</th>\n",
              "      <td>10868</td>\n",
              "      <td>19</td>\n",
              "      <td>Private</td>\n",
              "      <td>132652</td>\n",
              "      <td>Bachelors</td>\n",
              "      <td>13</td>\n",
              "      <td>Never-married</td>\n",
              "      <td>Prof-specialty</td>\n",
              "      <td>Not-in-family</td>\n",
              "      <td>White</td>\n",
              "      <td>Female</td>\n",
              "      <td>United-States</td>\n",
              "      <td>0</td>\n",
              "    </tr>\n",
              "  </tbody>\n",
              "</table>\n",
              "</div>"
            ],
            "text/plain": [
              "   index  age workclass  fnlwgt  ...   race     sex native-country  Y\n",
              "0    322   21   Private  132652  ...  White  Female  United-States  0\n",
              "1  11968   29   Private  132652  ...  White  Female  United-States  0\n",
              "2  10868   19   Private  132652  ...  White  Female  United-States  0\n",
              "\n",
              "[3 rows x 13 columns]"
            ]
          },
          "metadata": {
            "tags": []
          },
          "execution_count": 4
        }
      ]
    },
    {
      "cell_type": "markdown",
      "metadata": {
        "id": "Ocec8mdU_F7S"
      },
      "source": [
        "## 3. Split x(features) and y(label)"
      ]
    },
    {
      "cell_type": "code",
      "metadata": {
        "id": "huFsJU7nor3a"
      },
      "source": [
        "x = train.drop('Y', axis=1)\n",
        "y = train['Y']"
      ],
      "execution_count": 5,
      "outputs": []
    },
    {
      "cell_type": "code",
      "metadata": {
        "id": "Erp9lNx9pMFi",
        "colab": {
          "base_uri": "https://localhost:8080/"
        },
        "outputId": "34563cda-b622-4055-81a3-e28abe80be1c"
      },
      "source": [
        "x.info()"
      ],
      "execution_count": 6,
      "outputs": [
        {
          "output_type": "stream",
          "text": [
            "<class 'pandas.core.frame.DataFrame'>\n",
            "RangeIndex: 11900 entries, 0 to 11899\n",
            "Data columns (total 12 columns):\n",
            " #   Column          Non-Null Count  Dtype \n",
            "---  ------          --------------  ----- \n",
            " 0   index           11900 non-null  int64 \n",
            " 1   age             11900 non-null  int64 \n",
            " 2   workclass       11900 non-null  object\n",
            " 3   fnlwgt          11900 non-null  int64 \n",
            " 4   education       11900 non-null  object\n",
            " 5   education-num   11900 non-null  int64 \n",
            " 6   marital-status  11900 non-null  object\n",
            " 7   occupation      11900 non-null  object\n",
            " 8   relationship    11900 non-null  object\n",
            " 9   race            11900 non-null  object\n",
            " 10  sex             11900 non-null  object\n",
            " 11  native-country  11900 non-null  object\n",
            "dtypes: int64(4), object(8)\n",
            "memory usage: 1.1+ MB\n"
          ],
          "name": "stdout"
        }
      ]
    },
    {
      "cell_type": "markdown",
      "metadata": {
        "id": "OBunL_BP_Wrc"
      },
      "source": [
        "## 4. Feature engineering"
      ]
    },
    {
      "cell_type": "code",
      "metadata": {
        "id": "Dn-2acrApTVR"
      },
      "source": [
        "#x = x.drop('index', axis=1)\n",
        "\n",
        "from sklearn.preprocessing import LabelEncoder\n",
        "from sklearn.preprocessing import StandardScaler\n",
        "\n",
        "def preprocess(_data: pd.DataFrame):\n",
        "    data = _data.copy()\n",
        "    data = data.drop('index', axis=1)\n",
        "\n",
        "    # ?はいっそ明らかに多いprivateにする\n",
        "    max_workclass = data['workclass'].value_counts(sort=True).index[0]\n",
        "    data['workclass'] = data['workclass'].replace('?', max_workclass)\n",
        "\n",
        "    sex_mapping = {\n",
        "        'Male': 0,\n",
        "        'Female': 1\n",
        "    }\n",
        "    data['sex'] = data['sex'].map(sex_mapping)\n",
        "    data['education'] = LabelEncoder().fit_transform(data['education'])\n",
        "    data = data.drop('native-country', axis=1)\n",
        "    data['occupation'] = data['occupation'].replace('?', 'None')\n",
        "\n",
        "    ohe_columns = ['workclass', 'marital-status', 'occupation', 'relationship', 'race']\n",
        "    data = pd.get_dummies(data, columns=ohe_columns)\n",
        "\n",
        "    data = StandardScaler().fit_transform(data)\n",
        "\n",
        "    return data\n",
        "\n",
        "x = preprocess(x)"
      ],
      "execution_count": 7,
      "outputs": []
    },
    {
      "cell_type": "code",
      "metadata": {
        "id": "CAy059lrX28i"
      },
      "source": [
        "# x['workclass'].value_counts().plot.bar(figsize=(15, 3), color='darkblue')"
      ],
      "execution_count": 8,
      "outputs": []
    },
    {
      "cell_type": "code",
      "metadata": {
        "id": "3s6joFvYZQIR"
      },
      "source": [
        "# x['education'].value_counts().plot.bar(figsize=(15, 3), color='pink')"
      ],
      "execution_count": 9,
      "outputs": []
    },
    {
      "cell_type": "code",
      "metadata": {
        "id": "rA_etBHFcqXH"
      },
      "source": [
        "# x['education'].value_counts().plot.bar(figsize=(15, 3))"
      ],
      "execution_count": 10,
      "outputs": []
    },
    {
      "cell_type": "code",
      "metadata": {
        "id": "aKC7RQ2-g0ee"
      },
      "source": [
        "from sklearn.pipeline import Pipeline\n",
        "from sklearn.decomposition import PCA"
      ],
      "execution_count": 11,
      "outputs": []
    },
    {
      "cell_type": "code",
      "metadata": {
        "id": "CovFypIhzwpm"
      },
      "source": [
        "from sklearn.model_selection import train_test_split\n",
        "x_train, x_test, y_train, y_test = train_test_split(x, y, test_size=0.2, random_state=0)"
      ],
      "execution_count": 13,
      "outputs": []
    },
    {
      "cell_type": "code",
      "metadata": {
        "id": "GWyE8E3xh8Rb",
        "colab": {
          "base_uri": "https://localhost:8080/"
        },
        "outputId": "3dcd8e75-9593-4b24-abd2-539ec3fe8c50"
      },
      "source": [
        "import lightgbm as lgb\n",
        "\n",
        "lgb_train = lgb.Dataset(x_train, y_train)\n",
        "lgb_test = lgb.Dataset(x_test, y_test)\n",
        "\n",
        "lgb_params = {\n",
        "    'task': 'train',\n",
        "    'boosting_type': 'gbdt',\n",
        "    'objective': 'binary'\n",
        "}\n",
        "\n",
        "\n",
        "lgb_results = {}\n",
        "\n",
        "model = lgb.train(\n",
        "    params=lgb_params,\n",
        "    train_set=lgb_train,\n",
        "    valid_sets=[lgb_train, lgb_test],\n",
        "    valid_names=['Train', 'Test'],\n",
        "    num_boost_round=100,\n",
        "    early_stopping_rounds=10,\n",
        "    evals_result=lgb_results\n",
        ")"
      ],
      "execution_count": 14,
      "outputs": [
        {
          "output_type": "stream",
          "text": [
            "[1]\tTrain's binary_logloss: 0.529232\tTest's binary_logloss: 0.528213\n",
            "Training until validation scores don't improve for 10 rounds.\n",
            "[2]\tTrain's binary_logloss: 0.498134\tTest's binary_logloss: 0.498509\n",
            "[3]\tTrain's binary_logloss: 0.47352\tTest's binary_logloss: 0.47493\n",
            "[4]\tTrain's binary_logloss: 0.453022\tTest's binary_logloss: 0.455226\n",
            "[5]\tTrain's binary_logloss: 0.435839\tTest's binary_logloss: 0.43892\n",
            "[6]\tTrain's binary_logloss: 0.421311\tTest's binary_logloss: 0.424948\n",
            "[7]\tTrain's binary_logloss: 0.408981\tTest's binary_logloss: 0.413278\n",
            "[8]\tTrain's binary_logloss: 0.3984\tTest's binary_logloss: 0.403539\n",
            "[9]\tTrain's binary_logloss: 0.389123\tTest's binary_logloss: 0.395324\n",
            "[10]\tTrain's binary_logloss: 0.381343\tTest's binary_logloss: 0.388059\n",
            "[11]\tTrain's binary_logloss: 0.374376\tTest's binary_logloss: 0.381936\n",
            "[12]\tTrain's binary_logloss: 0.368353\tTest's binary_logloss: 0.376748\n",
            "[13]\tTrain's binary_logloss: 0.363088\tTest's binary_logloss: 0.3722\n",
            "[14]\tTrain's binary_logloss: 0.358382\tTest's binary_logloss: 0.36821\n",
            "[15]\tTrain's binary_logloss: 0.354341\tTest's binary_logloss: 0.364809\n",
            "[16]\tTrain's binary_logloss: 0.350533\tTest's binary_logloss: 0.361451\n",
            "[17]\tTrain's binary_logloss: 0.347254\tTest's binary_logloss: 0.358696\n",
            "[18]\tTrain's binary_logloss: 0.344241\tTest's binary_logloss: 0.356547\n",
            "[19]\tTrain's binary_logloss: 0.341473\tTest's binary_logloss: 0.35481\n",
            "[20]\tTrain's binary_logloss: 0.338969\tTest's binary_logloss: 0.352942\n",
            "[21]\tTrain's binary_logloss: 0.336696\tTest's binary_logloss: 0.351283\n",
            "[22]\tTrain's binary_logloss: 0.334557\tTest's binary_logloss: 0.349969\n",
            "[23]\tTrain's binary_logloss: 0.33264\tTest's binary_logloss: 0.348878\n",
            "[24]\tTrain's binary_logloss: 0.331022\tTest's binary_logloss: 0.347771\n",
            "[25]\tTrain's binary_logloss: 0.329223\tTest's binary_logloss: 0.346888\n",
            "[26]\tTrain's binary_logloss: 0.327673\tTest's binary_logloss: 0.346138\n",
            "[27]\tTrain's binary_logloss: 0.326292\tTest's binary_logloss: 0.345345\n",
            "[28]\tTrain's binary_logloss: 0.324963\tTest's binary_logloss: 0.344805\n",
            "[29]\tTrain's binary_logloss: 0.323761\tTest's binary_logloss: 0.344209\n",
            "[30]\tTrain's binary_logloss: 0.32267\tTest's binary_logloss: 0.343823\n",
            "[31]\tTrain's binary_logloss: 0.321553\tTest's binary_logloss: 0.343237\n",
            "[32]\tTrain's binary_logloss: 0.320404\tTest's binary_logloss: 0.342851\n",
            "[33]\tTrain's binary_logloss: 0.319194\tTest's binary_logloss: 0.342515\n",
            "[34]\tTrain's binary_logloss: 0.318313\tTest's binary_logloss: 0.342079\n",
            "[35]\tTrain's binary_logloss: 0.317441\tTest's binary_logloss: 0.341788\n",
            "[36]\tTrain's binary_logloss: 0.316636\tTest's binary_logloss: 0.341512\n",
            "[37]\tTrain's binary_logloss: 0.315885\tTest's binary_logloss: 0.341294\n",
            "[38]\tTrain's binary_logloss: 0.315057\tTest's binary_logloss: 0.341313\n",
            "[39]\tTrain's binary_logloss: 0.31434\tTest's binary_logloss: 0.340847\n",
            "[40]\tTrain's binary_logloss: 0.313721\tTest's binary_logloss: 0.340647\n",
            "[41]\tTrain's binary_logloss: 0.313086\tTest's binary_logloss: 0.34067\n",
            "[42]\tTrain's binary_logloss: 0.312429\tTest's binary_logloss: 0.340746\n",
            "[43]\tTrain's binary_logloss: 0.311751\tTest's binary_logloss: 0.340926\n",
            "[44]\tTrain's binary_logloss: 0.311109\tTest's binary_logloss: 0.341016\n",
            "[45]\tTrain's binary_logloss: 0.310567\tTest's binary_logloss: 0.340935\n",
            "[46]\tTrain's binary_logloss: 0.309882\tTest's binary_logloss: 0.341265\n",
            "[47]\tTrain's binary_logloss: 0.309349\tTest's binary_logloss: 0.341306\n",
            "[48]\tTrain's binary_logloss: 0.308698\tTest's binary_logloss: 0.341408\n",
            "[49]\tTrain's binary_logloss: 0.308064\tTest's binary_logloss: 0.34156\n",
            "[50]\tTrain's binary_logloss: 0.307441\tTest's binary_logloss: 0.341732\n",
            "Early stopping, best iteration is:\n",
            "[40]\tTrain's binary_logloss: 0.313721\tTest's binary_logloss: 0.340647\n"
          ],
          "name": "stdout"
        }
      ]
    },
    {
      "cell_type": "code",
      "metadata": {
        "id": "BZJzq6iT2mwv",
        "colab": {
          "base_uri": "https://localhost:8080/"
        },
        "outputId": "ac248870-838a-46e7-ab0b-61ce7986f0ed"
      },
      "source": [
        "import numpy as np\n",
        "print(np.min(lgb_results['Train']['binary_logloss']))\n",
        "print(np.min(lgb_results['Test']['binary_logloss']))\n",
        "best_iteration = model.best_iteration\n",
        "print(best_iteration)"
      ],
      "execution_count": 15,
      "outputs": [
        {
          "output_type": "stream",
          "text": [
            "0.3074408505477516\n",
            "0.34064725310784655\n",
            "40\n"
          ],
          "name": "stdout"
        }
      ]
    },
    {
      "cell_type": "code",
      "metadata": {
        "id": "4iIjRCv2iRzT"
      },
      "source": [
        "y_pred = model.predict(x_test, num_iteration=model.best_iteration)"
      ],
      "execution_count": 16,
      "outputs": []
    },
    {
      "cell_type": "code",
      "metadata": {
        "colab": {
          "base_uri": "https://localhost:8080/"
        },
        "id": "5aoTnb6e5OfA",
        "outputId": "681482b3-6748-4908-d692-27c084b2ae82"
      },
      "source": [
        "y_pred"
      ],
      "execution_count": 17,
      "outputs": [
        {
          "output_type": "execute_result",
          "data": {
            "text/plain": [
              "array([0.05807381, 0.46130942, 0.01579358, ..., 0.12843733, 0.03029955,\n",
              "       0.02972164])"
            ]
          },
          "metadata": {
            "tags": []
          },
          "execution_count": 17
        }
      ]
    },
    {
      "cell_type": "code",
      "metadata": {
        "id": "opaMvpP05WYp"
      },
      "source": [
        "y_pred = [0 if i < 0.5 else 1 for i in y_pred]"
      ],
      "execution_count": 18,
      "outputs": []
    },
    {
      "cell_type": "code",
      "metadata": {
        "id": "EAKD-uaA5hpm",
        "colab": {
          "base_uri": "https://localhost:8080/"
        },
        "outputId": "719245f4-17c8-4906-98cc-f32041e7b861"
      },
      "source": [
        "from sklearn.metrics import accuracy_score\n",
        "acc = accuracy_score(y_test, y_pred)\n",
        "print(acc)"
      ],
      "execution_count": 19,
      "outputs": [
        {
          "output_type": "stream",
          "text": [
            "0.8436974789915966\n"
          ],
          "name": "stdout"
        }
      ]
    },
    {
      "cell_type": "code",
      "metadata": {
        "colab": {
          "base_uri": "https://localhost:8080/"
        },
        "id": "XBPH-la1BfQx",
        "outputId": "09749687-ae8b-4324-e2a5-45c3e8da634e"
      },
      "source": [
        "model.save_model(f'{project_path}/data/lgb-v1.h5')"
      ],
      "execution_count": 20,
      "outputs": [
        {
          "output_type": "execute_result",
          "data": {
            "text/plain": [
              "<lightgbm.basic.Booster at 0x7fcf86387ad0>"
            ]
          },
          "metadata": {
            "tags": []
          },
          "execution_count": 20
        }
      ]
    },
    {
      "cell_type": "code",
      "metadata": {
        "id": "zJpSnfP5CR0C"
      },
      "source": [
        "test = pd.read_csv(f'{project_path}/data/test.csv')"
      ],
      "execution_count": 21,
      "outputs": []
    },
    {
      "cell_type": "code",
      "metadata": {
        "colab": {
          "base_uri": "https://localhost:8080/",
          "height": 210
        },
        "id": "hOeCi1NXHSYB",
        "outputId": "7c60a3dc-24a8-44e6-9d73-b3583fe4929f"
      },
      "source": [
        "test.head(3)"
      ],
      "execution_count": 22,
      "outputs": [
        {
          "output_type": "execute_result",
          "data": {
            "text/html": [
              "<div>\n",
              "<style scoped>\n",
              "    .dataframe tbody tr th:only-of-type {\n",
              "        vertical-align: middle;\n",
              "    }\n",
              "\n",
              "    .dataframe tbody tr th {\n",
              "        vertical-align: top;\n",
              "    }\n",
              "\n",
              "    .dataframe thead th {\n",
              "        text-align: right;\n",
              "    }\n",
              "</style>\n",
              "<table border=\"1\" class=\"dataframe\">\n",
              "  <thead>\n",
              "    <tr style=\"text-align: right;\">\n",
              "      <th></th>\n",
              "      <th>index</th>\n",
              "      <th>age</th>\n",
              "      <th>workclass</th>\n",
              "      <th>fnlwgt</th>\n",
              "      <th>education</th>\n",
              "      <th>education-num</th>\n",
              "      <th>marital-status</th>\n",
              "      <th>occupation</th>\n",
              "      <th>relationship</th>\n",
              "      <th>race</th>\n",
              "      <th>sex</th>\n",
              "      <th>native-country</th>\n",
              "    </tr>\n",
              "  </thead>\n",
              "  <tbody>\n",
              "    <tr>\n",
              "      <th>0</th>\n",
              "      <td>3873</td>\n",
              "      <td>17</td>\n",
              "      <td>Local-gov</td>\n",
              "      <td>132652</td>\n",
              "      <td>Masters</td>\n",
              "      <td>14</td>\n",
              "      <td>Married-civ-spouse</td>\n",
              "      <td>Prof-specialty</td>\n",
              "      <td>Husband</td>\n",
              "      <td>White</td>\n",
              "      <td>Male</td>\n",
              "      <td>United-States</td>\n",
              "    </tr>\n",
              "    <tr>\n",
              "      <th>1</th>\n",
              "      <td>3625</td>\n",
              "      <td>23</td>\n",
              "      <td>Private</td>\n",
              "      <td>132652</td>\n",
              "      <td>Some-college</td>\n",
              "      <td>10</td>\n",
              "      <td>Married-civ-spouse</td>\n",
              "      <td>Sales</td>\n",
              "      <td>Husband</td>\n",
              "      <td>White</td>\n",
              "      <td>Male</td>\n",
              "      <td>United-States</td>\n",
              "    </tr>\n",
              "    <tr>\n",
              "      <th>2</th>\n",
              "      <td>3028</td>\n",
              "      <td>19</td>\n",
              "      <td>Private</td>\n",
              "      <td>132652</td>\n",
              "      <td>11th</td>\n",
              "      <td>7</td>\n",
              "      <td>Never-married</td>\n",
              "      <td>Handlers-cleaners</td>\n",
              "      <td>Own-child</td>\n",
              "      <td>White</td>\n",
              "      <td>Female</td>\n",
              "      <td>United-States</td>\n",
              "    </tr>\n",
              "  </tbody>\n",
              "</table>\n",
              "</div>"
            ],
            "text/plain": [
              "   index  age  workclass  fnlwgt  ... relationship   race     sex native-country\n",
              "0   3873   17  Local-gov  132652  ...      Husband  White    Male  United-States\n",
              "1   3625   23    Private  132652  ...      Husband  White    Male  United-States\n",
              "2   3028   19    Private  132652  ...    Own-child  White  Female  United-States\n",
              "\n",
              "[3 rows x 12 columns]"
            ]
          },
          "metadata": {
            "tags": []
          },
          "execution_count": 22
        }
      ]
    },
    {
      "cell_type": "code",
      "metadata": {
        "id": "Z20QPj10HUlv"
      },
      "source": [
        "test_idx = test['index']\n",
        "test_fe = preprocess(test)"
      ],
      "execution_count": 23,
      "outputs": []
    },
    {
      "cell_type": "code",
      "metadata": {
        "colab": {
          "base_uri": "https://localhost:8080/"
        },
        "id": "5kG9_DbbHqe8",
        "outputId": "c2f8ec13-e1d6-4f45-e933-cb0fab2bd550"
      },
      "source": [
        "test_fe"
      ],
      "execution_count": 25,
      "outputs": [
        {
          "output_type": "execute_result",
          "data": {
            "text/plain": [
              "array([[-1.16440708,  0.12289487,  0.41215588, ..., -0.14498628,\n",
              "        -0.24056561,  0.28535055],\n",
              "       [-0.52378325,  0.12289487,  1.17430054, ..., -0.14498628,\n",
              "        -0.24056561,  0.28535055],\n",
              "       [-0.9508658 ,  0.12289487, -3.01749511, ..., -0.14498628,\n",
              "        -0.24056561,  0.28535055],\n",
              "       ...,\n",
              "       [ 0.86423504,  0.12289487, -1.49320578, ..., -0.14498628,\n",
              "        -0.24056561,  0.28535055],\n",
              "       [ 0.54392312,  0.12289487,  0.79322821, ..., -0.14498628,\n",
              "        -0.24056561,  0.28535055],\n",
              "       [ 0.86423504,  0.12289487, -0.34998878, ..., -0.14498628,\n",
              "        -0.24056561,  0.28535055]])"
            ]
          },
          "metadata": {
            "tags": []
          },
          "execution_count": 25
        }
      ]
    },
    {
      "cell_type": "code",
      "metadata": {
        "id": "Y374PGaWHtMr"
      },
      "source": [
        "y_test_pred = model.predict(test_fe, num_iteration=model.best_iteration)"
      ],
      "execution_count": 26,
      "outputs": []
    },
    {
      "cell_type": "code",
      "metadata": {
        "colab": {
          "base_uri": "https://localhost:8080/"
        },
        "id": "3O7RVe7rIKGs",
        "outputId": "3f76e623-ea97-4dd7-abfb-3c50609dad2d"
      },
      "source": [
        "y_test_pred"
      ],
      "execution_count": 27,
      "outputs": [
        {
          "output_type": "execute_result",
          "data": {
            "text/plain": [
              "array([0.70748324, 0.3141271 , 0.00636914, ..., 0.25283694, 0.03671712,\n",
              "       0.65170071])"
            ]
          },
          "metadata": {
            "tags": []
          },
          "execution_count": 27
        }
      ]
    },
    {
      "cell_type": "code",
      "metadata": {
        "id": "vpvQ-teMIMIt"
      },
      "source": [
        "y_test_pred = [0 if i < 0.5 else 1 for i in y_test_pred]"
      ],
      "execution_count": 28,
      "outputs": []
    },
    {
      "cell_type": "code",
      "metadata": {
        "id": "IWRFrtgTIWaE"
      },
      "source": [
        "res = pd.DataFrame()\n",
        "res['index'] = test_idx\n",
        "res['label'] = y_test_pred"
      ],
      "execution_count": 29,
      "outputs": []
    },
    {
      "cell_type": "code",
      "metadata": {
        "colab": {
          "base_uri": "https://localhost:8080/",
          "height": 142
        },
        "id": "23XWhAPtJgyn",
        "outputId": "6dd910a9-a144-4122-c623-2e115b4857e9"
      },
      "source": [
        "res.head(3)"
      ],
      "execution_count": 30,
      "outputs": [
        {
          "output_type": "execute_result",
          "data": {
            "text/html": [
              "<div>\n",
              "<style scoped>\n",
              "    .dataframe tbody tr th:only-of-type {\n",
              "        vertical-align: middle;\n",
              "    }\n",
              "\n",
              "    .dataframe tbody tr th {\n",
              "        vertical-align: top;\n",
              "    }\n",
              "\n",
              "    .dataframe thead th {\n",
              "        text-align: right;\n",
              "    }\n",
              "</style>\n",
              "<table border=\"1\" class=\"dataframe\">\n",
              "  <thead>\n",
              "    <tr style=\"text-align: right;\">\n",
              "      <th></th>\n",
              "      <th>index</th>\n",
              "      <th>label</th>\n",
              "    </tr>\n",
              "  </thead>\n",
              "  <tbody>\n",
              "    <tr>\n",
              "      <th>0</th>\n",
              "      <td>3873</td>\n",
              "      <td>1</td>\n",
              "    </tr>\n",
              "    <tr>\n",
              "      <th>1</th>\n",
              "      <td>3625</td>\n",
              "      <td>0</td>\n",
              "    </tr>\n",
              "    <tr>\n",
              "      <th>2</th>\n",
              "      <td>3028</td>\n",
              "      <td>0</td>\n",
              "    </tr>\n",
              "  </tbody>\n",
              "</table>\n",
              "</div>"
            ],
            "text/plain": [
              "   index  label\n",
              "0   3873      1\n",
              "1   3625      0\n",
              "2   3028      0"
            ]
          },
          "metadata": {
            "tags": []
          },
          "execution_count": 30
        }
      ]
    },
    {
      "cell_type": "code",
      "metadata": {
        "id": "lXDoV2gKJjIr"
      },
      "source": [
        "res.to_csv(f'{project_path}/data/lgb-prediction-v1.csv', header=False)"
      ],
      "execution_count": 32,
      "outputs": []
    },
    {
      "cell_type": "code",
      "metadata": {
        "id": "8gWxRMC6J2NK"
      },
      "source": [
        ""
      ],
      "execution_count": null,
      "outputs": []
    }
  ]
}