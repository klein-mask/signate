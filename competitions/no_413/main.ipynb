{
 "cells": [
  {
   "cell_type": "markdown",
   "metadata": {},
   "source": [
    "# The notebook is annual income census of signate.\n",
    "---"
   ]
  },
  {
   "cell_type": "markdown",
   "metadata": {},
   "source": [
    "## 1. import csv data and "
   ]
  },
  {
   "cell_type": "code",
   "execution_count": 1,
   "metadata": {},
   "outputs": [],
   "source": [
    "import pandas as pd"
   ]
  },
  {
   "cell_type": "code",
   "execution_count": 15,
   "metadata": {},
   "outputs": [],
   "source": [
    "train = pd.read_csv('data/train.csv')"
   ]
  },
  {
   "cell_type": "code",
   "execution_count": 16,
   "metadata": {},
   "outputs": [
    {
     "data": {
      "text/html": [
       "<div>\n",
       "<style scoped>\n",
       "    .dataframe tbody tr th:only-of-type {\n",
       "        vertical-align: middle;\n",
       "    }\n",
       "\n",
       "    .dataframe tbody tr th {\n",
       "        vertical-align: top;\n",
       "    }\n",
       "\n",
       "    .dataframe thead th {\n",
       "        text-align: right;\n",
       "    }\n",
       "</style>\n",
       "<table border=\"1\" class=\"dataframe\">\n",
       "  <thead>\n",
       "    <tr style=\"text-align: right;\">\n",
       "      <th></th>\n",
       "      <th>index</th>\n",
       "      <th>age</th>\n",
       "      <th>workclass</th>\n",
       "      <th>fnlwgt</th>\n",
       "      <th>education</th>\n",
       "      <th>education-num</th>\n",
       "      <th>marital-status</th>\n",
       "      <th>occupation</th>\n",
       "      <th>relationship</th>\n",
       "      <th>race</th>\n",
       "      <th>sex</th>\n",
       "      <th>native-country</th>\n",
       "      <th>Y</th>\n",
       "    </tr>\n",
       "  </thead>\n",
       "  <tbody>\n",
       "    <tr>\n",
       "      <th>0</th>\n",
       "      <td>322</td>\n",
       "      <td>21</td>\n",
       "      <td>Private</td>\n",
       "      <td>132652</td>\n",
       "      <td>Some-college</td>\n",
       "      <td>10</td>\n",
       "      <td>Divorced</td>\n",
       "      <td>Adm-clerical</td>\n",
       "      <td>Own-child</td>\n",
       "      <td>White</td>\n",
       "      <td>Female</td>\n",
       "      <td>United-States</td>\n",
       "      <td>0</td>\n",
       "    </tr>\n",
       "    <tr>\n",
       "      <th>1</th>\n",
       "      <td>11968</td>\n",
       "      <td>29</td>\n",
       "      <td>Private</td>\n",
       "      <td>132652</td>\n",
       "      <td>HS-grad</td>\n",
       "      <td>9</td>\n",
       "      <td>Divorced</td>\n",
       "      <td>Adm-clerical</td>\n",
       "      <td>Not-in-family</td>\n",
       "      <td>White</td>\n",
       "      <td>Female</td>\n",
       "      <td>United-States</td>\n",
       "      <td>0</td>\n",
       "    </tr>\n",
       "    <tr>\n",
       "      <th>2</th>\n",
       "      <td>10868</td>\n",
       "      <td>19</td>\n",
       "      <td>Private</td>\n",
       "      <td>132652</td>\n",
       "      <td>Bachelors</td>\n",
       "      <td>13</td>\n",
       "      <td>Never-married</td>\n",
       "      <td>Prof-specialty</td>\n",
       "      <td>Not-in-family</td>\n",
       "      <td>White</td>\n",
       "      <td>Female</td>\n",
       "      <td>United-States</td>\n",
       "      <td>0</td>\n",
       "    </tr>\n",
       "    <tr>\n",
       "      <th>3</th>\n",
       "      <td>3394</td>\n",
       "      <td>17</td>\n",
       "      <td>Private</td>\n",
       "      <td>132652</td>\n",
       "      <td>HS-grad</td>\n",
       "      <td>9</td>\n",
       "      <td>Never-married</td>\n",
       "      <td>Craft-repair</td>\n",
       "      <td>Own-child</td>\n",
       "      <td>White</td>\n",
       "      <td>Male</td>\n",
       "      <td>United-States</td>\n",
       "      <td>0</td>\n",
       "    </tr>\n",
       "    <tr>\n",
       "      <th>4</th>\n",
       "      <td>15993</td>\n",
       "      <td>47</td>\n",
       "      <td>Private</td>\n",
       "      <td>132652</td>\n",
       "      <td>Some-college</td>\n",
       "      <td>10</td>\n",
       "      <td>Married-civ-spouse</td>\n",
       "      <td>Craft-repair</td>\n",
       "      <td>Husband</td>\n",
       "      <td>White</td>\n",
       "      <td>Male</td>\n",
       "      <td>United-States</td>\n",
       "      <td>0</td>\n",
       "    </tr>\n",
       "  </tbody>\n",
       "</table>\n",
       "</div>"
      ],
      "text/plain": [
       "   index  age workclass  fnlwgt     education  education-num  \\\n",
       "0    322   21   Private  132652  Some-college             10   \n",
       "1  11968   29   Private  132652       HS-grad              9   \n",
       "2  10868   19   Private  132652     Bachelors             13   \n",
       "3   3394   17   Private  132652       HS-grad              9   \n",
       "4  15993   47   Private  132652  Some-college             10   \n",
       "\n",
       "       marital-status      occupation   relationship   race     sex  \\\n",
       "0            Divorced    Adm-clerical      Own-child  White  Female   \n",
       "1            Divorced    Adm-clerical  Not-in-family  White  Female   \n",
       "2       Never-married  Prof-specialty  Not-in-family  White  Female   \n",
       "3       Never-married    Craft-repair      Own-child  White    Male   \n",
       "4  Married-civ-spouse    Craft-repair        Husband  White    Male   \n",
       "\n",
       "  native-country  Y  \n",
       "0  United-States  0  \n",
       "1  United-States  0  \n",
       "2  United-States  0  \n",
       "3  United-States  0  \n",
       "4  United-States  0  "
      ]
     },
     "execution_count": 16,
     "metadata": {},
     "output_type": "execute_result"
    }
   ],
   "source": [
    "train.head(5)"
   ]
  },
  {
   "cell_type": "code",
   "execution_count": 17,
   "metadata": {},
   "outputs": [
    {
     "data": {
      "text/plain": [
       "0    8852\n",
       "1    3048\n",
       "Name: Y, dtype: int64"
      ]
     },
     "execution_count": 17,
     "metadata": {},
     "output_type": "execute_result"
    }
   ],
   "source": [
    "train['Y'].value_counts()"
   ]
  },
  {
   "cell_type": "code",
   "execution_count": 18,
   "metadata": {},
   "outputs": [
    {
     "name": "stdout",
     "output_type": "stream",
     "text": [
      "<class 'pandas.core.frame.DataFrame'>\n",
      "RangeIndex: 11900 entries, 0 to 11899\n",
      "Data columns (total 13 columns):\n",
      " #   Column          Non-Null Count  Dtype \n",
      "---  ------          --------------  ----- \n",
      " 0   index           11900 non-null  int64 \n",
      " 1   age             11900 non-null  int64 \n",
      " 2   workclass       11900 non-null  object\n",
      " 3   fnlwgt          11900 non-null  int64 \n",
      " 4   education       11900 non-null  object\n",
      " 5   education-num   11900 non-null  int64 \n",
      " 6   marital-status  11900 non-null  object\n",
      " 7   occupation      11900 non-null  object\n",
      " 8   relationship    11900 non-null  object\n",
      " 9   race            11900 non-null  object\n",
      " 10  sex             11900 non-null  object\n",
      " 11  native-country  11900 non-null  object\n",
      " 12  Y               11900 non-null  int64 \n",
      "dtypes: int64(5), object(8)\n",
      "memory usage: 1.2+ MB\n"
     ]
    }
   ],
   "source": [
    "train.info()"
   ]
  },
  {
   "cell_type": "code",
   "execution_count": 19,
   "metadata": {},
   "outputs": [
    {
     "data": {
      "text/plain": [
       "index             0\n",
       "age               0\n",
       "workclass         0\n",
       "fnlwgt            0\n",
       "education         0\n",
       "education-num     0\n",
       "marital-status    0\n",
       "occupation        0\n",
       "relationship      0\n",
       "race              0\n",
       "sex               0\n",
       "native-country    0\n",
       "Y                 0\n",
       "dtype: int64"
      ]
     },
     "execution_count": 19,
     "metadata": {},
     "output_type": "execute_result"
    }
   ],
   "source": [
    "train.isnull().sum()"
   ]
  },
  {
   "cell_type": "markdown",
   "metadata": {},
   "source": [
    "## 2. Transeform categorical feature to number."
   ]
  },
  {
   "cell_type": "code",
   "execution_count": 20,
   "metadata": {},
   "outputs": [
    {
     "data": {
      "text/plain": [
       "Male      7949\n",
       "Female    3951\n",
       "Name: sex, dtype: int64"
      ]
     },
     "execution_count": 20,
     "metadata": {},
     "output_type": "execute_result"
    }
   ],
   "source": [
    "train['sex'].value_counts()"
   ]
  },
  {
   "cell_type": "code",
   "execution_count": 21,
   "metadata": {},
   "outputs": [],
   "source": [
    "sex_mapping = {\n",
    "    'Male': 0,\n",
    "    'Female': 1\n",
    "}\n",
    "train['sex_int'] = train['sex'].replace(sex_mapping).astype('int64')"
   ]
  },
  {
   "cell_type": "code",
   "execution_count": 22,
   "metadata": {},
   "outputs": [
    {
     "data": {
      "text/plain": [
       "0        1\n",
       "1        1\n",
       "2        1\n",
       "3        0\n",
       "4        0\n",
       "        ..\n",
       "11895    1\n",
       "11896    1\n",
       "11897    0\n",
       "11898    0\n",
       "11899    0\n",
       "Name: sex_int, Length: 11900, dtype: int64"
      ]
     },
     "execution_count": 22,
     "metadata": {},
     "output_type": "execute_result"
    }
   ],
   "source": [
    "train['sex_int']"
   ]
  },
  {
   "cell_type": "code",
   "execution_count": 23,
   "metadata": {},
   "outputs": [],
   "source": [
    "ohe_columns = ['workclass', \n",
    "               'education', \n",
    "               'marital-status', \n",
    "               'occupation', \n",
    "               'relationship', \n",
    "               'race',\n",
    "               'native-country'\n",
    "              ]\n",
    "train_ohe = pd.get_dummies(data=train, columns=ohe_columns)"
   ]
  },
  {
   "cell_type": "code",
   "execution_count": 24,
   "metadata": {},
   "outputs": [
    {
     "name": "stdout",
     "output_type": "stream",
     "text": [
      "<class 'pandas.core.frame.DataFrame'>\n",
      "RangeIndex: 11900 entries, 0 to 11899\n",
      "Data columns (total 58 columns):\n",
      " #   Column                             Non-Null Count  Dtype \n",
      "---  ------                             --------------  ----- \n",
      " 0   index                              11900 non-null  int64 \n",
      " 1   age                                11900 non-null  int64 \n",
      " 2   fnlwgt                             11900 non-null  int64 \n",
      " 3   education-num                      11900 non-null  int64 \n",
      " 4   sex                                11900 non-null  object\n",
      " 5   Y                                  11900 non-null  int64 \n",
      " 6   sex_int                            11900 non-null  int64 \n",
      " 7   workclass_?                        11900 non-null  uint8 \n",
      " 8   workclass_Federal-gov              11900 non-null  uint8 \n",
      " 9   workclass_Local-gov                11900 non-null  uint8 \n",
      " 10  workclass_Private                  11900 non-null  uint8 \n",
      " 11  workclass_Self-emp-inc             11900 non-null  uint8 \n",
      " 12  workclass_Self-emp-not-inc         11900 non-null  uint8 \n",
      " 13  workclass_State-gov                11900 non-null  uint8 \n",
      " 14  education_10th                     11900 non-null  uint8 \n",
      " 15  education_11th                     11900 non-null  uint8 \n",
      " 16  education_12th                     11900 non-null  uint8 \n",
      " 17  education_1st-4th                  11900 non-null  uint8 \n",
      " 18  education_5th-6th                  11900 non-null  uint8 \n",
      " 19  education_7th-8th                  11900 non-null  uint8 \n",
      " 20  education_9th                      11900 non-null  uint8 \n",
      " 21  education_Assoc-acdm               11900 non-null  uint8 \n",
      " 22  education_Assoc-voc                11900 non-null  uint8 \n",
      " 23  education_Bachelors                11900 non-null  uint8 \n",
      " 24  education_HS-grad                  11900 non-null  uint8 \n",
      " 25  education_Masters                  11900 non-null  uint8 \n",
      " 26  education_Prof-school              11900 non-null  uint8 \n",
      " 27  education_Some-college             11900 non-null  uint8 \n",
      " 28  marital-status_Divorced            11900 non-null  uint8 \n",
      " 29  marital-status_Married-civ-spouse  11900 non-null  uint8 \n",
      " 30  marital-status_Never-married       11900 non-null  uint8 \n",
      " 31  marital-status_Separated           11900 non-null  uint8 \n",
      " 32  marital-status_Widowed             11900 non-null  uint8 \n",
      " 33  occupation_?                       11900 non-null  uint8 \n",
      " 34  occupation_Adm-clerical            11900 non-null  uint8 \n",
      " 35  occupation_Craft-repair            11900 non-null  uint8 \n",
      " 36  occupation_Exec-managerial         11900 non-null  uint8 \n",
      " 37  occupation_Farming-fishing         11900 non-null  uint8 \n",
      " 38  occupation_Handlers-cleaners       11900 non-null  uint8 \n",
      " 39  occupation_Machine-op-inspct       11900 non-null  uint8 \n",
      " 40  occupation_Other-service           11900 non-null  uint8 \n",
      " 41  occupation_Prof-specialty          11900 non-null  uint8 \n",
      " 42  occupation_Protective-serv         11900 non-null  uint8 \n",
      " 43  occupation_Sales                   11900 non-null  uint8 \n",
      " 44  occupation_Tech-support            11900 non-null  uint8 \n",
      " 45  occupation_Transport-moving        11900 non-null  uint8 \n",
      " 46  relationship_Husband               11900 non-null  uint8 \n",
      " 47  relationship_Not-in-family         11900 non-null  uint8 \n",
      " 48  relationship_Other-relative        11900 non-null  uint8 \n",
      " 49  relationship_Own-child             11900 non-null  uint8 \n",
      " 50  relationship_Unmarried             11900 non-null  uint8 \n",
      " 51  relationship_Wife                  11900 non-null  uint8 \n",
      " 52  race_Asian-Pac-Islander            11900 non-null  uint8 \n",
      " 53  race_Black                         11900 non-null  uint8 \n",
      " 54  race_White                         11900 non-null  uint8 \n",
      " 55  native-country_Mexico              11900 non-null  uint8 \n",
      " 56  native-country_Philippines         11900 non-null  uint8 \n",
      " 57  native-country_United-States       11900 non-null  uint8 \n",
      "dtypes: int64(6), object(1), uint8(51)\n",
      "memory usage: 1.2+ MB\n"
     ]
    }
   ],
   "source": [
    "train_ohe.info()"
   ]
  },
  {
   "cell_type": "markdown",
   "metadata": {},
   "source": [
    "## 3. Split X and y."
   ]
  },
  {
   "cell_type": "code",
   "execution_count": 26,
   "metadata": {},
   "outputs": [],
   "source": [
    "X = train_ohe.drop(['Y', 'sex'], axis=1)\n",
    "y = train_ohe['Y']"
   ]
  },
  {
   "cell_type": "code",
   "execution_count": 27,
   "metadata": {},
   "outputs": [
    {
     "name": "stdout",
     "output_type": "stream",
     "text": [
      "<class 'pandas.core.frame.DataFrame'>\n",
      "RangeIndex: 11900 entries, 0 to 11899\n",
      "Data columns (total 56 columns):\n",
      " #   Column                             Non-Null Count  Dtype\n",
      "---  ------                             --------------  -----\n",
      " 0   index                              11900 non-null  int64\n",
      " 1   age                                11900 non-null  int64\n",
      " 2   fnlwgt                             11900 non-null  int64\n",
      " 3   education-num                      11900 non-null  int64\n",
      " 4   sex_int                            11900 non-null  int64\n",
      " 5   workclass_?                        11900 non-null  uint8\n",
      " 6   workclass_Federal-gov              11900 non-null  uint8\n",
      " 7   workclass_Local-gov                11900 non-null  uint8\n",
      " 8   workclass_Private                  11900 non-null  uint8\n",
      " 9   workclass_Self-emp-inc             11900 non-null  uint8\n",
      " 10  workclass_Self-emp-not-inc         11900 non-null  uint8\n",
      " 11  workclass_State-gov                11900 non-null  uint8\n",
      " 12  education_10th                     11900 non-null  uint8\n",
      " 13  education_11th                     11900 non-null  uint8\n",
      " 14  education_12th                     11900 non-null  uint8\n",
      " 15  education_1st-4th                  11900 non-null  uint8\n",
      " 16  education_5th-6th                  11900 non-null  uint8\n",
      " 17  education_7th-8th                  11900 non-null  uint8\n",
      " 18  education_9th                      11900 non-null  uint8\n",
      " 19  education_Assoc-acdm               11900 non-null  uint8\n",
      " 20  education_Assoc-voc                11900 non-null  uint8\n",
      " 21  education_Bachelors                11900 non-null  uint8\n",
      " 22  education_HS-grad                  11900 non-null  uint8\n",
      " 23  education_Masters                  11900 non-null  uint8\n",
      " 24  education_Prof-school              11900 non-null  uint8\n",
      " 25  education_Some-college             11900 non-null  uint8\n",
      " 26  marital-status_Divorced            11900 non-null  uint8\n",
      " 27  marital-status_Married-civ-spouse  11900 non-null  uint8\n",
      " 28  marital-status_Never-married       11900 non-null  uint8\n",
      " 29  marital-status_Separated           11900 non-null  uint8\n",
      " 30  marital-status_Widowed             11900 non-null  uint8\n",
      " 31  occupation_?                       11900 non-null  uint8\n",
      " 32  occupation_Adm-clerical            11900 non-null  uint8\n",
      " 33  occupation_Craft-repair            11900 non-null  uint8\n",
      " 34  occupation_Exec-managerial         11900 non-null  uint8\n",
      " 35  occupation_Farming-fishing         11900 non-null  uint8\n",
      " 36  occupation_Handlers-cleaners       11900 non-null  uint8\n",
      " 37  occupation_Machine-op-inspct       11900 non-null  uint8\n",
      " 38  occupation_Other-service           11900 non-null  uint8\n",
      " 39  occupation_Prof-specialty          11900 non-null  uint8\n",
      " 40  occupation_Protective-serv         11900 non-null  uint8\n",
      " 41  occupation_Sales                   11900 non-null  uint8\n",
      " 42  occupation_Tech-support            11900 non-null  uint8\n",
      " 43  occupation_Transport-moving        11900 non-null  uint8\n",
      " 44  relationship_Husband               11900 non-null  uint8\n",
      " 45  relationship_Not-in-family         11900 non-null  uint8\n",
      " 46  relationship_Other-relative        11900 non-null  uint8\n",
      " 47  relationship_Own-child             11900 non-null  uint8\n",
      " 48  relationship_Unmarried             11900 non-null  uint8\n",
      " 49  relationship_Wife                  11900 non-null  uint8\n",
      " 50  race_Asian-Pac-Islander            11900 non-null  uint8\n",
      " 51  race_Black                         11900 non-null  uint8\n",
      " 52  race_White                         11900 non-null  uint8\n",
      " 53  native-country_Mexico              11900 non-null  uint8\n",
      " 54  native-country_Philippines         11900 non-null  uint8\n",
      " 55  native-country_United-States       11900 non-null  uint8\n",
      "dtypes: int64(5), uint8(51)\n",
      "memory usage: 1.0 MB\n"
     ]
    }
   ],
   "source": [
    "X.info()"
   ]
  },
  {
   "cell_type": "code",
   "execution_count": 29,
   "metadata": {},
   "outputs": [
    {
     "data": {
      "text/plain": [
       "(11900, 56)"
      ]
     },
     "execution_count": 29,
     "metadata": {},
     "output_type": "execute_result"
    }
   ],
   "source": [
    "X.shape"
   ]
  },
  {
   "cell_type": "markdown",
   "metadata": {},
   "source": [
    "## 4. Feature Engineering."
   ]
  },
  {
   "cell_type": "code",
   "execution_count": 31,
   "metadata": {},
   "outputs": [
    {
     "name": "stdout",
     "output_type": "stream",
     "text": [
      "56\n"
     ]
    }
   ],
   "source": [
    "\"\"\"\n",
    "from sklearn.feature_selection import VarianceThreshold\n",
    "sel = VarianceThreshold(threshold=0)\n",
    "sel.fit(X)\n",
    "print(sum(sel.get_support()))\n",
    "\"\"\""
   ]
  },
  {
   "cell_type": "markdown",
   "metadata": {},
   "source": [
    "## 5. Create Model"
   ]
  },
  {
   "cell_type": "code",
   "execution_count": 32,
   "metadata": {},
   "outputs": [],
   "source": [
    "# 一旦特徴量削らないバージョン\n"
   ]
  },
  {
   "cell_type": "code",
   "execution_count": null,
   "metadata": {},
   "outputs": [],
   "source": []
  }
 ],
 "metadata": {
  "kernelspec": {
   "display_name": "Python 3",
   "language": "python",
   "name": "python3"
  },
  "language_info": {
   "codemirror_mode": {
    "name": "ipython",
    "version": 3
   },
   "file_extension": ".py",
   "mimetype": "text/x-python",
   "name": "python",
   "nbconvert_exporter": "python",
   "pygments_lexer": "ipython3",
   "version": "3.8.6"
  }
 },
 "nbformat": 4,
 "nbformat_minor": 4
}
