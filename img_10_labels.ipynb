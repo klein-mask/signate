{
  "nbformat": 4,
  "nbformat_minor": 0,
  "metadata": {
    "colab": {
      "name": "img_10_labels.ipynb",
      "provenance": [],
      "collapsed_sections": [],
      "include_colab_link": true
    },
    "kernelspec": {
      "name": "python3",
      "display_name": "Python 3"
    },
    "accelerator": "GPU"
  },
  "cells": [
    {
      "cell_type": "markdown",
      "metadata": {
        "id": "view-in-github",
        "colab_type": "text"
      },
      "source": [
        "<a href=\"https://colab.research.google.com/github/klein-mask/signate/blob/main/img_10_labels.ipynb\" target=\"_parent\"><img src=\"https://colab.research.google.com/assets/colab-badge.svg\" alt=\"Open In Colab\"/></a>"
      ]
    },
    {
      "cell_type": "markdown",
      "metadata": {
        "id": "94XSQbMsYq1D"
      },
      "source": [
        "# This notebook is image classify 10 labels from signate exercises. \n",
        "\n",
        "## datasets\n",
        "[signate competition](https://signate.jp/competitions/133/data)\n",
        "\n",
        "## use model\n",
        "\n",
        "I implement \"vgg16 + BatchNormalization\" as a model from scratch.\n",
        "\n",
        "## Referenced site\n",
        "- https://tat-pytone.hatenablog.com/entry/2019/08/02/103907\n",
        "- https://aidiary.hatenablog.com/entry/20161120/1479640534\n",
        "- https://qiita.com/tsekine2/items/e95d1cf704247dd3df7b\n",
        "- https://qiita.com/koshian2/items/04853466d77bab360c9d\n",
        "- https://qiita.com/koshian2/items/f4917b1e6c944674fb80"
      ]
    },
    {
      "cell_type": "markdown",
      "metadata": {
        "id": "mDil37sFdXDX"
      },
      "source": [
        "## 0. mount google drive"
      ]
    },
    {
      "cell_type": "code",
      "metadata": {
        "colab": {
          "base_uri": "https://localhost:8080/"
        },
        "id": "xJXf2Da5dakW",
        "outputId": "90de304f-a3ea-44aa-d5a6-580175c7224c"
      },
      "source": [
        "from google.colab import drive\n",
        "drive.mount('/content/drive')"
      ],
      "execution_count": null,
      "outputs": [
        {
          "output_type": "stream",
          "text": [
            "Drive already mounted at /content/drive; to attempt to forcibly remount, call drive.mount(\"/content/drive\", force_remount=True).\n"
          ],
          "name": "stdout"
        }
      ]
    },
    {
      "cell_type": "code",
      "metadata": {
        "colab": {
          "base_uri": "https://localhost:8080/",
          "height": 69
        },
        "id": "mouWqGVBeX5y",
        "outputId": "e9bcee92-e87c-4a47-b830-d352f4c29833"
      },
      "source": [
        "project_path = '/content/drive/MyDrive/ml/signate/img_10_label'\n",
        "\"\"\"\n",
        "import zipfile\n",
        "\n",
        "with zipfile.ZipFile(f'{project_path}/train_images.zip') as train_zip:\n",
        "    train_zip.extractall(project_path)\n",
        "\n",
        "with zipfile.ZipFile(f'{project_path}/test_images.zip') as test_zip:\n",
        "    test_zip.extractall(project_path)\n",
        "\"\"\""
      ],
      "execution_count": null,
      "outputs": [
        {
          "output_type": "execute_result",
          "data": {
            "application/vnd.google.colaboratory.intrinsic+json": {
              "type": "string"
            },
            "text/plain": [
              "\"\\nimport zipfile\\n\\nwith zipfile.ZipFile(f'{project_path}/train_images.zip') as train_zip:\\n    train_zip.extractall(project_path)\\n\\nwith zipfile.ZipFile(f'{project_path}/test_images.zip') as test_zip:\\n    test_zip.extractall(project_path)\\n\""
            ]
          },
          "metadata": {
            "tags": []
          },
          "execution_count": 2
        }
      ]
    },
    {
      "cell_type": "markdown",
      "metadata": {
        "id": "giwbSzJHc8Cr"
      },
      "source": [
        "## 1. import modules"
      ]
    },
    {
      "cell_type": "code",
      "metadata": {
        "id": "fUDtYN1ZXp7i"
      },
      "source": [
        "import keras\n",
        "from keras.models import Sequential\n",
        "from keras.layers import Dense, Dropout, Activation, Flatten, BatchNormalization\n",
        "from keras.layers import Conv2D, MaxPooling2D, GlobalAveragePooling2D\n",
        "from PIL import Image\n",
        "import os, glob\n",
        "import numpy as np\n",
        "from sklearn.model_selection import train_test_split\n",
        "import matplotlib.pyplot as plt\n",
        "from natsort import natsorted"
      ],
      "execution_count": null,
      "outputs": []
    },
    {
      "cell_type": "markdown",
      "metadata": {
        "id": "QzLs-67sdF3C"
      },
      "source": [
        "## 2. load images and convert RGB ndarray"
      ]
    },
    {
      "cell_type": "code",
      "metadata": {
        "id": "ksdUM3TJYZ11"
      },
      "source": [
        "train_files = natsorted(glob.glob(f'{project_path}/train_images/*.jpg'))\n",
        "test_files = natsorted(glob.glob(f'{project_path}/test_images/*.jpg'))\n",
        "\n",
        "\n",
        "def jpg_2_ndarray(files):\n",
        "    tmp = []\n",
        "    for i, file in enumerate(files):\n",
        "        if i < 100:\n",
        "            print(file)\n",
        "        img = Image.open(file).convert('RGB')\n",
        "        d = np.asarray(img)\n",
        "        tmp.append(d)\n",
        "    return np.array(tmp).astype('float32') / 255.0\n",
        "\n",
        "train = jpg_2_ndarray(train_files)\n",
        "test = jpg_2_ndarray(test_files)"
      ],
      "execution_count": null,
      "outputs": []
    },
    {
      "cell_type": "code",
      "metadata": {
        "id": "y8P3IZ1OlcW5",
        "colab": {
          "base_uri": "https://localhost:8080/",
          "height": 353
        },
        "outputId": "6b1ea83f-6075-459f-8319-45350ac05c96"
      },
      "source": [
        "# check\n",
        "print(train.shape)\n",
        "print(test.shape)\n",
        "print(train[0].shape)\n",
        "print(test[0].shape)\n",
        "plt.imshow(train[3])"
      ],
      "execution_count": null,
      "outputs": [
        {
          "output_type": "stream",
          "text": [
            "(5000, 96, 96, 3)\n",
            "(8000, 96, 96, 3)\n",
            "(96, 96, 3)\n",
            "(96, 96, 3)\n"
          ],
          "name": "stdout"
        },
        {
          "output_type": "execute_result",
          "data": {
            "text/plain": [
              "<matplotlib.image.AxesImage at 0x7f59159220b8>"
            ]
          },
          "metadata": {
            "tags": []
          },
          "execution_count": 6
        },
        {
          "output_type": "display_data",
          "data": {
            "image/png": "[encoded data removed]",
            "text/plain": [
              "<Figure size 432x288 with 1 Axes>"
            ]
          },
          "metadata": {
            "tags": [],
            "needs_background": "light"
          }
        }
      ]
    },
    {
      "cell_type": "markdown",
      "metadata": {
        "id": "xFI2r4gpnf6k"
      },
      "source": [
        "- image size = 96 * 96 * 3(channel) \n",
        "- train data len = 5000\n",
        "- test data len = 8000"
      ]
    },
    {
      "cell_type": "markdown",
      "metadata": {
        "id": "q0GTF5WzpzoN"
      },
      "source": [
        "## 3. load train labels"
      ]
    },
    {
      "cell_type": "code",
      "metadata": {
        "id": "Ck6OZqb-p6Jl"
      },
      "source": [
        "import pandas as pd\n",
        "\n",
        "train_master = pd.read_csv(f'{project_path}/train_master.tsv', delimiter='\\t')"
      ],
      "execution_count": null,
      "outputs": []
    },
    {
      "cell_type": "code",
      "metadata": {
        "id": "HMYPpSKCqJ33"
      },
      "source": [
        "y = train_master['label_id'].values"
      ],
      "execution_count": null,
      "outputs": []
    },
    {
      "cell_type": "code",
      "metadata": {
        "id": "__NJaAQ-q3jV",
        "colab": {
          "base_uri": "https://localhost:8080/"
        },
        "outputId": "f6530783-cfad-49dd-aeb0-12c92c46ea32"
      },
      "source": [
        "print(y.shape)\n",
        "print(y)"
      ],
      "execution_count": null,
      "outputs": [
        {
          "output_type": "stream",
          "text": [
            "(5000,)\n",
            "[1 5 1 ... 1 7 5]\n"
          ],
          "name": "stdout"
        }
      ]
    },
    {
      "cell_type": "code",
      "metadata": {
        "id": "g-e_rVvJrIsd"
      },
      "source": [
        "from keras.utils import to_categorical\n",
        "\n",
        "y = to_categorical(y)"
      ],
      "execution_count": null,
      "outputs": []
    },
    {
      "cell_type": "code",
      "metadata": {
        "id": "4DYUKo3rrOoe",
        "colab": {
          "base_uri": "https://localhost:8080/"
        },
        "outputId": "143e002d-76ff-423c-c86d-05fb95be45de"
      },
      "source": [
        "y.shape"
      ],
      "execution_count": null,
      "outputs": [
        {
          "output_type": "execute_result",
          "data": {
            "text/plain": [
              "(5000, 10)"
            ]
          },
          "metadata": {
            "tags": []
          },
          "execution_count": 11
        }
      ]
    },
    {
      "cell_type": "markdown",
      "metadata": {
        "id": "rHBJklTppORb"
      },
      "source": [
        "## 4. train data split to train and validate"
      ]
    },
    {
      "cell_type": "code",
      "metadata": {
        "id": "J_MlGfu-lgmp"
      },
      "source": [
        "X_train, X_valid, y_train, y_valid = train_test_split(train, y, test_size=0.2)"
      ],
      "execution_count": null,
      "outputs": []
    },
    {
      "cell_type": "code",
      "metadata": {
        "id": "5TuxH3vHr47U",
        "colab": {
          "base_uri": "https://localhost:8080/"
        },
        "outputId": "ddf578fc-1170-4f25-8676-842f766b5a67"
      },
      "source": [
        "X_train.shape"
      ],
      "execution_count": null,
      "outputs": [
        {
          "output_type": "execute_result",
          "data": {
            "text/plain": [
              "(4000, 96, 96, 3)"
            ]
          },
          "metadata": {
            "tags": []
          },
          "execution_count": 13
        }
      ]
    },
    {
      "cell_type": "markdown",
      "metadata": {
        "id": "QolwD4GBr9kv"
      },
      "source": [
        "## 5. create model"
      ]
    },
    {
      "cell_type": "code",
      "metadata": {
        "id": "zF-RaPSAr6w9",
        "colab": {
          "base_uri": "https://localhost:8080/"
        },
        "outputId": "906d5462-0dd6-4fb3-d7fd-17db9a195b6d"
      },
      "source": [
        "kernel_size = (3, 3)\n",
        "input_shape = X_train.shape[1:]\n",
        "\n",
        "model = Sequential()\n",
        "model.add(Conv2D(64, kernel_size, padding='same', input_shape=input_shape))\n",
        "model.add(BatchNormalization())\n",
        "model.add(Activation('relu'))\n",
        "\n",
        "model.add(Conv2D(64, kernel_size, padding='same'))\n",
        "model.add(BatchNormalization())\n",
        "model.add(Activation('relu'))\n",
        "\n",
        "model.add(MaxPooling2D(pool_size=(2,2), strides=(2,2)))\n",
        "\n",
        "model.add(Conv2D(128, kernel_size, padding='same'))\n",
        "model.add(BatchNormalization())\n",
        "model.add(Activation('relu'))\n",
        "\n",
        "model.add(Conv2D(128, kernel_size, padding='same'))\n",
        "model.add(BatchNormalization())\n",
        "model.add(Activation('relu'))\n",
        "\n",
        "model.add(MaxPooling2D(pool_size=(2,2), strides=(2,2)))\n",
        "\n",
        "\n",
        "model.add(Conv2D(256, kernel_size, padding='same'))\n",
        "model.add(BatchNormalization())\n",
        "model.add(Activation('relu'))\n",
        "\n",
        "model.add(Conv2D(256, kernel_size, padding='same'))\n",
        "model.add(BatchNormalization())\n",
        "model.add(Activation('relu'))\n",
        "\n",
        "model.add(Conv2D(256, kernel_size, padding='same'))\n",
        "model.add(BatchNormalization())\n",
        "model.add(Activation('relu'))\n",
        "\n",
        "model.add(MaxPooling2D(pool_size=(2,2), strides=(2,2)))\n",
        "\n",
        "model.add(Conv2D(512, kernel_size, padding='same'))\n",
        "model.add(BatchNormalization())\n",
        "model.add(Activation('relu'))\n",
        "\n",
        "model.add(Conv2D(512, kernel_size, padding='same'))\n",
        "model.add(BatchNormalization())\n",
        "model.add(Activation('relu'))\n",
        "\n",
        "model.add(Conv2D(512, kernel_size, padding='same'))\n",
        "model.add(BatchNormalization())\n",
        "model.add(Activation('relu'))\n",
        "\n",
        "model.add(MaxPooling2D(pool_size=(2,2), strides=(2,2)))\n",
        "\n",
        "model.add(Conv2D(512, kernel_size, padding='same'))\n",
        "model.add(BatchNormalization())\n",
        "model.add(Activation('relu'))\n",
        "\n",
        "model.add(Conv2D(512, kernel_size, padding='same'))\n",
        "model.add(BatchNormalization())\n",
        "model.add(Activation('relu'))\n",
        "\n",
        "model.add(Conv2D(512, kernel_size, padding='same'))\n",
        "model.add(BatchNormalization())\n",
        "model.add(Activation('relu'))\n",
        "\n",
        "model.add(MaxPooling2D(pool_size=(2,2), strides=(2,2)))\n",
        "\n",
        "# model.add(Flatten())\n",
        "model.add(GlobalAveragePooling2D())\n",
        "\n",
        "model.add(Dense(4096, activation='relu'))\n",
        "model.add(Dense(4096, activation='relu'))\n",
        "model.add(Dense(10, activation='softmax'))\n",
        "\n",
        "model.summary()"
      ],
      "execution_count": null,
      "outputs": [
        {
          "output_type": "stream",
          "text": [
            "Model: \"sequential\"\n",
            "_________________________________________________________________\n",
            "Layer (type)                 Output Shape              Param #   \n",
            "=================================================================\n",
            "conv2d (Conv2D)              (None, 96, 96, 64)        1792      \n",
            "_________________________________________________________________\n",
            "batch_normalization (BatchNo (None, 96, 96, 64)        256       \n",
            "_________________________________________________________________\n",
            "activation (Activation)      (None, 96, 96, 64)        0         \n",
            "_________________________________________________________________\n",
            "conv2d_1 (Conv2D)            (None, 96, 96, 64)        36928     \n",
            "_________________________________________________________________\n",
            "batch_normalization_1 (Batch (None, 96, 96, 64)        256       \n",
            "_________________________________________________________________\n",
            "activation_1 (Activation)    (None, 96, 96, 64)        0         \n",
            "_________________________________________________________________\n",
            "max_pooling2d (MaxPooling2D) (None, 48, 48, 64)        0         \n",
            "_________________________________________________________________\n",
            "conv2d_2 (Conv2D)            (None, 48, 48, 128)       73856     \n",
            "_________________________________________________________________\n",
            "batch_normalization_2 (Batch (None, 48, 48, 128)       512       \n",
            "_________________________________________________________________\n",
            "activation_2 (Activation)    (None, 48, 48, 128)       0         \n",
            "_________________________________________________________________\n",
            "conv2d_3 (Conv2D)            (None, 48, 48, 128)       147584    \n",
            "_________________________________________________________________\n",
            "batch_normalization_3 (Batch (None, 48, 48, 128)       512       \n",
            "_________________________________________________________________\n",
            "activation_3 (Activation)    (None, 48, 48, 128)       0         \n",
            "_________________________________________________________________\n",
            "max_pooling2d_1 (MaxPooling2 (None, 24, 24, 128)       0         \n",
            "_________________________________________________________________\n",
            "conv2d_4 (Conv2D)            (None, 24, 24, 256)       295168    \n",
            "_________________________________________________________________\n",
            "batch_normalization_4 (Batch (None, 24, 24, 256)       1024      \n",
            "_________________________________________________________________\n",
            "activation_4 (Activation)    (None, 24, 24, 256)       0         \n",
            "_________________________________________________________________\n",
            "conv2d_5 (Conv2D)            (None, 24, 24, 256)       590080    \n",
            "_________________________________________________________________\n",
            "batch_normalization_5 (Batch (None, 24, 24, 256)       1024      \n",
            "_________________________________________________________________\n",
            "activation_5 (Activation)    (None, 24, 24, 256)       0         \n",
            "_________________________________________________________________\n",
            "conv2d_6 (Conv2D)            (None, 24, 24, 256)       590080    \n",
            "_________________________________________________________________\n",
            "batch_normalization_6 (Batch (None, 24, 24, 256)       1024      \n",
            "_________________________________________________________________\n",
            "activation_6 (Activation)    (None, 24, 24, 256)       0         \n",
            "_________________________________________________________________\n",
            "max_pooling2d_2 (MaxPooling2 (None, 12, 12, 256)       0         \n",
            "_________________________________________________________________\n",
            "conv2d_7 (Conv2D)            (None, 12, 12, 512)       1180160   \n",
            "_________________________________________________________________\n",
            "batch_normalization_7 (Batch (None, 12, 12, 512)       2048      \n",
            "_________________________________________________________________\n",
            "activation_7 (Activation)    (None, 12, 12, 512)       0         \n",
            "_________________________________________________________________\n",
            "conv2d_8 (Conv2D)            (None, 12, 12, 512)       2359808   \n",
            "_________________________________________________________________\n",
            "batch_normalization_8 (Batch (None, 12, 12, 512)       2048      \n",
            "_________________________________________________________________\n",
            "activation_8 (Activation)    (None, 12, 12, 512)       0         \n",
            "_________________________________________________________________\n",
            "conv2d_9 (Conv2D)            (None, 12, 12, 512)       2359808   \n",
            "_________________________________________________________________\n",
            "batch_normalization_9 (Batch (None, 12, 12, 512)       2048      \n",
            "_________________________________________________________________\n",
            "activation_9 (Activation)    (None, 12, 12, 512)       0         \n",
            "_________________________________________________________________\n",
            "max_pooling2d_3 (MaxPooling2 (None, 6, 6, 512)         0         \n",
            "_________________________________________________________________\n",
            "conv2d_10 (Conv2D)           (None, 6, 6, 512)         2359808   \n",
            "_________________________________________________________________\n",
            "batch_normalization_10 (Batc (None, 6, 6, 512)         2048      \n",
            "_________________________________________________________________\n",
            "activation_10 (Activation)   (None, 6, 6, 512)         0         \n",
            "_________________________________________________________________\n",
            "conv2d_11 (Conv2D)           (None, 6, 6, 512)         2359808   \n",
            "_________________________________________________________________\n",
            "batch_normalization_11 (Batc (None, 6, 6, 512)         2048      \n",
            "_________________________________________________________________\n",
            "activation_11 (Activation)   (None, 6, 6, 512)         0         \n",
            "_________________________________________________________________\n",
            "conv2d_12 (Conv2D)           (None, 6, 6, 512)         2359808   \n",
            "_________________________________________________________________\n",
            "batch_normalization_12 (Batc (None, 6, 6, 512)         2048      \n",
            "_________________________________________________________________\n",
            "activation_12 (Activation)   (None, 6, 6, 512)         0         \n",
            "_________________________________________________________________\n",
            "max_pooling2d_4 (MaxPooling2 (None, 3, 3, 512)         0         \n",
            "_________________________________________________________________\n",
            "global_average_pooling2d (Gl (None, 512)               0         \n",
            "_________________________________________________________________\n",
            "dense (Dense)                (None, 4096)              2101248   \n",
            "_________________________________________________________________\n",
            "dense_1 (Dense)              (None, 4096)              16781312  \n",
            "_________________________________________________________________\n",
            "dense_2 (Dense)              (None, 10)                40970     \n",
            "=================================================================\n",
            "Total params: 33,655,114\n",
            "Trainable params: 33,646,666\n",
            "Non-trainable params: 8,448\n",
            "_________________________________________________________________\n"
          ],
          "name": "stdout"
        }
      ]
    },
    {
      "cell_type": "code",
      "metadata": {
        "id": "gJY1pVPFzXtt"
      },
      "source": [
        "optimizer = keras.optimizers.Adam()\n",
        "model.compile(loss='categorical_crossentropy', optimizer=optimizer, metrics=['accuracy'])"
      ],
      "execution_count": null,
      "outputs": []
    },
    {
      "cell_type": "code",
      "metadata": {
        "id": "aYABCADq1KNd",
        "colab": {
          "base_uri": "https://localhost:8080/"
        },
        "outputId": "a409a071-bf4f-4012-817b-9454a36e4191"
      },
      "source": [
        "batch_size = 64\n",
        "epochs = 20\n",
        "\n",
        "history = model.fit(X_train, y_train, batch_size=batch_size, epochs=epochs, validation_data=(X_valid, y_valid))\n"
      ],
      "execution_count": null,
      "outputs": [
        {
          "output_type": "stream",
          "text": [
            "Epoch 1/20\n",
            "63/63 [==============================] - 24s 231ms/step - loss: 3.2901 - accuracy: 0.1019 - val_loss: 2.3104 - val_accuracy: 0.0970\n",
            "Epoch 2/20\n",
            "63/63 [==============================] - 13s 203ms/step - loss: 2.2361 - accuracy: 0.1366 - val_loss: 2.3372 - val_accuracy: 0.1250\n",
            "Epoch 3/20\n",
            "63/63 [==============================] - 13s 205ms/step - loss: 2.0680 - accuracy: 0.1921 - val_loss: 3.4577 - val_accuracy: 0.0950\n",
            "Epoch 4/20\n",
            "63/63 [==============================] - 13s 207ms/step - loss: 1.8115 - accuracy: 0.2570 - val_loss: 5.7957 - val_accuracy: 0.0950\n",
            "Epoch 5/20\n",
            "63/63 [==============================] - 13s 209ms/step - loss: 1.7126 - accuracy: 0.2813 - val_loss: 5.0567 - val_accuracy: 0.1120\n",
            "Epoch 6/20\n",
            "63/63 [==============================] - 13s 212ms/step - loss: 1.6797 - accuracy: 0.3058 - val_loss: 4.9471 - val_accuracy: 0.1110\n",
            "Epoch 7/20\n",
            "63/63 [==============================] - 13s 215ms/step - loss: 1.6463 - accuracy: 0.3162 - val_loss: 1.9472 - val_accuracy: 0.2600\n",
            "Epoch 8/20\n",
            "63/63 [==============================] - 14s 217ms/step - loss: 1.6680 - accuracy: 0.2959 - val_loss: 1.9723 - val_accuracy: 0.2840\n",
            "Epoch 9/20\n",
            "63/63 [==============================] - 14s 218ms/step - loss: 1.6244 - accuracy: 0.3304 - val_loss: 1.9477 - val_accuracy: 0.2540\n",
            "Epoch 10/20\n",
            "63/63 [==============================] - 14s 219ms/step - loss: 1.5699 - accuracy: 0.3317 - val_loss: 1.8493 - val_accuracy: 0.2850\n",
            "Epoch 11/20\n",
            "63/63 [==============================] - 14s 217ms/step - loss: 1.5609 - accuracy: 0.3377 - val_loss: 3.7484 - val_accuracy: 0.1610\n",
            "Epoch 12/20\n",
            "63/63 [==============================] - 14s 216ms/step - loss: 1.5628 - accuracy: 0.3480 - val_loss: 1.7956 - val_accuracy: 0.2640\n",
            "Epoch 13/20\n",
            "63/63 [==============================] - 14s 216ms/step - loss: 1.5331 - accuracy: 0.3770 - val_loss: 2.2696 - val_accuracy: 0.2560\n",
            "Epoch 14/20\n",
            "63/63 [==============================] - 14s 217ms/step - loss: 1.4867 - accuracy: 0.3713 - val_loss: 2.2949 - val_accuracy: 0.2610\n",
            "Epoch 15/20\n",
            "63/63 [==============================] - 14s 218ms/step - loss: 1.4866 - accuracy: 0.3975 - val_loss: 4.3834 - val_accuracy: 0.2610\n",
            "Epoch 16/20\n",
            "63/63 [==============================] - 14s 218ms/step - loss: 1.4492 - accuracy: 0.4175 - val_loss: 6.6011 - val_accuracy: 0.1180\n",
            "Epoch 17/20\n",
            "63/63 [==============================] - 14s 218ms/step - loss: 1.4153 - accuracy: 0.4176 - val_loss: 2.2826 - val_accuracy: 0.2970\n",
            "Epoch 18/20\n",
            "63/63 [==============================] - 14s 218ms/step - loss: 1.3878 - accuracy: 0.4585 - val_loss: 3.0794 - val_accuracy: 0.3230\n",
            "Epoch 19/20\n",
            "63/63 [==============================] - 14s 218ms/step - loss: 1.3570 - accuracy: 0.4607 - val_loss: 2.2011 - val_accuracy: 0.3390\n",
            "Epoch 20/20\n",
            "63/63 [==============================] - 14s 218ms/step - loss: 1.3531 - accuracy: 0.4649 - val_loss: 1.7590 - val_accuracy: 0.3640\n"
          ],
          "name": "stdout"
        }
      ]
    },
    {
      "cell_type": "code",
      "metadata": {
        "id": "lDEbQryB9WqJ"
      },
      "source": [
        ""
      ],
      "execution_count": null,
      "outputs": []
    },
    {
      "cell_type": "markdown",
      "metadata": {
        "id": "2qbYPuVX6wkJ"
      },
      "source": [
        "## 6. evaluate and prediction data"
      ]
    },
    {
      "cell_type": "code",
      "metadata": {
        "id": "euWN6l8015tS"
      },
      "source": [
        "test_loss, test_acc = model.evaluate(X_valid, y_valid, verbose=0)"
      ],
      "execution_count": null,
      "outputs": []
    },
    {
      "cell_type": "code",
      "metadata": {
        "id": "WcRewe0P7fTF"
      },
      "source": [
        "y_valid_pred = model.predict(X_valid)"
      ],
      "execution_count": null,
      "outputs": []
    },
    {
      "cell_type": "code",
      "metadata": {
        "id": "oHCZc39ADbLs"
      },
      "source": [
        "y_valid_pred.shape"
      ],
      "execution_count": null,
      "outputs": []
    },
    {
      "cell_type": "code",
      "metadata": {
        "id": "44i7uAhtDdCz"
      },
      "source": [
        "y_valid_pred[0]"
      ],
      "execution_count": null,
      "outputs": []
    },
    {
      "cell_type": "code",
      "metadata": {
        "id": "BudfnaDyDgp6"
      },
      "source": [
        "plt.imshow(X_valid[4])\n",
        "print(np.argmax(y_valid_pred[4]))"
      ],
      "execution_count": null,
      "outputs": []
    },
    {
      "cell_type": "code",
      "metadata": {
        "id": "zJMslXiZDsqg"
      },
      "source": [
        ""
      ],
      "execution_count": null,
      "outputs": []
    }
  ]
}